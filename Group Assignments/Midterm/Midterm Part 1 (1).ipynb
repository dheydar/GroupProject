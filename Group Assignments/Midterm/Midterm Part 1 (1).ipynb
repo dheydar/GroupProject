{
 "cells": [
  {
   "cell_type": "markdown",
   "metadata": {},
   "source": [
    "# Research Question\n",
    "For our project, we will be researching crime data in Los Angeles and how that data is affected by various variables such as COVID-19, educational attainment, and household income. Due to the global pandemic, crime rates have fluctuated substantially due to the lockdown and the reopening of the county."
   ]
  },
  {
   "cell_type": "markdown",
   "metadata": {},
   "source": [
    "# Data Sources\n",
    "- Crime Data from 2020 to present, https://data.lacity.org/A-Safe-City/Crime-Data-from-2020-to-Present/2nrs-mtv8\n",
    "- COVID-19 Data from 2020 to present, https://github.com/datadesk/california-coronavirus-data/blob/master/latimes-place-totals.csv\n",
    "- Educational Attainment for LA County (2014-2018), Social Explorer\n",
    "- Household Income for LA County (2018), Social Explorer\n",
    "- White vs. Non-White Homeowners (2018), Social Explorer\n",
    "- Mapping Inequality/ Home Owners Loan Corporation (HOLC) LA Redlining Map (1939), clsl.richmond.edu "
   ]
  },
  {
   "cell_type": "markdown",
   "metadata": {},
   "source": [
    "# Data Exploration and Analysis\n",
    "\n",
    "Now we want to explore our data sources and provide an analysis of our datasets."
   ]
  },
  {
   "cell_type": "markdown",
   "metadata": {},
   "source": [
    "## COVID-19 Rates in California\n",
    "We will begin our data exploration by importing the current COVID-19 data from the LA times."
   ]
  },
  {
   "cell_type": "code",
   "execution_count": null,
   "metadata": {},
   "outputs": [],
   "source": [
    "import plotly.express as px\n",
    "import pandas as pd"
   ]
  },
  {
   "cell_type": "code",
   "execution_count": null,
   "metadata": {},
   "outputs": [],
   "source": [
    "latimes = pd.read_csv(\n",
    "    \"https://raw.githubusercontent.com/datadesk/california-coronavirus-data/master/latimes-place-totals.csv\")"
   ]
  },
  {
   "cell_type": "code",
   "execution_count": null,
   "metadata": {},
   "outputs": [],
   "source": [
    "# Now we want to get some basic statistics from the dataset. How many rows and columns?\n",
    "latimes.shape"
   ]
  },
  {
   "cell_type": "code",
   "execution_count": null,
   "metadata": {},
   "outputs": [],
   "source": [
    "#What are the first 5 rows?\n",
    "latimes.head()"
   ]
  },
  {
   "cell_type": "code",
   "execution_count": null,
   "metadata": {},
   "outputs": [],
   "source": [
    "# dataframe info?\n",
    "latimes.info()"
   ]
  },
  {
   "cell_type": "code",
   "execution_count": null,
   "metadata": {},
   "outputs": [],
   "source": [
    "# Next, we want to clean up the data. This includes empty coordinates, empty confirmed cases, and incorrect coordinates (Note: positive longitudes do not exist in California)\n",
    "# We do this by using the .query() method that allows us to query and filter the dataset using SQL syntax.\n",
    "latimes.query(\"confirmed_cases == 'NaN'\")"
   ]
  },
  {
   "cell_type": "code",
   "execution_count": null,
   "metadata": {},
   "outputs": [],
   "source": [
    "# NaN values for 'x'?\n",
    "latimes.query(\"x == 'NaN'\")"
   ]
  },
  {
   "cell_type": "code",
   "execution_count": null,
   "metadata": {},
   "outputs": [],
   "source": [
    "#NaN values for 'y'?\n",
    "latimes.query(\"y == 'NaN'\")"
   ]
  },
  {
   "cell_type": "code",
   "execution_count": null,
   "metadata": {},
   "outputs": [],
   "source": [
    "# Positive longitude coordinates?\n",
    "latimes.query(\"x > 0\")"
   ]
  },
  {
   "cell_type": "code",
   "execution_count": null,
   "metadata": {},
   "outputs": [],
   "source": [
    "# Do we have any null dates?\n",
    "latimes.query(\"date.isnull()\", engine='python')"
   ]
  },
  {
   "cell_type": "code",
   "execution_count": null,
   "metadata": {},
   "outputs": [],
   "source": [
    "# Now we will combine our arguments and clean the data:\n",
    "latimes = latimes.query(\"confirmed_cases != 'NaN' & x < 0 & x != 'NaN' & date.notnull()\", engine='python')\n",
    "latimes.head()"
   ]
  },
  {
   "cell_type": "code",
   "execution_count": null,
   "metadata": {},
   "outputs": [],
   "source": [
    "# How many records do we have now?\n",
    "latimes.shape\n",
    "# Less columns than before"
   ]
  },
  {
   "cell_type": "code",
   "execution_count": null,
   "metadata": {},
   "outputs": [],
   "source": [
    "# Now we want to look at more statistics in our dataset. Let's look at confirmed cases.\n",
    "latimes.confirmed_cases.describe()"
   ]
  },
  {
   "cell_type": "code",
   "execution_count": null,
   "metadata": {},
   "outputs": [],
   "source": [
    "# Since our research question is focused on Los Angeles County, let's look at which cities in LA County have the highest confirmed cases. \n",
    "latimes_LA = latimes.query(\"county=='Los Angeles'\")"
   ]
  },
  {
   "cell_type": "code",
   "execution_count": null,
   "metadata": {},
   "outputs": [],
   "source": [
    "latimes_LA.groupby(\"place\").confirmed_cases.describe().sort_values(by=[\"max\"], ascending=False).head(50)"
   ]
  },
  {
   "cell_type": "code",
   "execution_count": null,
   "metadata": {},
   "outputs": [],
   "source": [
    "# Let's create a bar chart representing the confirmed cases in LA County overtime.\n",
    "LACounty = latimes.query(\"county == ['Los Angeles']\")\n",
    "px.bar(LACounty,\n",
    "      x='date',\n",
    "      y='confirmed_cases')"
   ]
  },
  {
   "cell_type": "code",
   "execution_count": null,
   "metadata": {},
   "outputs": [],
   "source": [
    "# Let's be more specific. Let's create a bar chart of the top three cities in LA County with the highest confirmed cases: Long Beach, East Los Angeles, and Pomona.\n",
    "TopLA = latimes.query(\"place == ['Long Beach','East Los Angeles','Pomona']\")\n",
    "px.bar(TopLA,\n",
    "      x='date',\n",
    "      y='confirmed_cases',\n",
    "      color = 'place')"
   ]
  },
  {
   "cell_type": "markdown",
   "metadata": {},
   "source": [
    "Now that we've looked at the top three cities with the highest confirmed COVID-19 cases, let's represent our dataset in a different visualization format. \n",
    "Let's create an animated scatter plot to represent the change overtime of confirmed cases in cities across LA County."
   ]
  },
  {
   "cell_type": "code",
   "execution_count": null,
   "metadata": {},
   "outputs": [],
   "source": [
    "# What is the mean of  confirmed cases in LA County?\n",
    "latimes_LA_mean = latimes_LA.confirmed_cases.mean()\n",
    "latimes_LA_mean"
   ]
  },
  {
   "cell_type": "code",
   "execution_count": null,
   "metadata": {},
   "outputs": [],
   "source": [
    "px.scatter(latimes_LA,\n",
    "           x='x',\n",
    "           y='y',\n",
    "           color='confirmed_cases', \n",
    "           size='confirmed_cases',\n",
    "           size_max=40, \n",
    "           hover_name='place',\n",
    "           animation_frame='date', # this creates a frame by frame animation by day\n",
    "           color_continuous_scale = 'RdYlGn_r',\n",
    "           range_color = (0,latimes_LA_mean*2))"
   ]
  },
  {
   "cell_type": "markdown",
   "metadata": {},
   "source": [
    "An issue we had with this animated scatterplot was that the animation began from the present to March, instead of vice versa. This is something we will have to address in the future."
   ]
  },
  {
   "cell_type": "markdown",
   "metadata": {},
   "source": [
    "## Crime Rates in the City of Los Angeles\n",
    "Let's look at crime rates in LA County from 2020 to present. We will begin by importing the data."
   ]
  },
  {
   "cell_type": "code",
   "execution_count": null,
   "metadata": {},
   "outputs": [],
   "source": [
    "import pandas as pd\n",
    "import plotly.express as px\n",
    "from sodapy import Socrata"
   ]
  },
  {
   "cell_type": "markdown",
   "metadata": {},
   "source": [
    "Next, we acquire the data using the socrata API. \n",
    "- https://dev.socrata.com/foundry/data.lacity.org/2nrs-mtv8"
   ]
  },
  {
   "cell_type": "code",
   "execution_count": null,
   "metadata": {},
   "outputs": [],
   "source": [
    "# connect to the data portal\n",
    "client = Socrata(\"data.lacity.org\", None)\n",
    "\n",
    "# First 2000 results, returned as JSON from API / converted to Python list of\n",
    "# dictionaries by sodapy.\n",
    "results = client.get(\"2nrs-mtv8\", limit=2000)\n",
    "\n",
    "# Convert to pandas DataFrame\n",
    "df = pd.DataFrame.from_records(results)\n",
    "\n",
    "# print it with .sample, which gives you random rows\n",
    "df.sample(2)"
   ]
  },
  {
   "cell_type": "code",
   "execution_count": null,
   "metadata": {},
   "outputs": [],
   "source": [
    "# Now, we want to add a \"where\" statement to look at the data from March 1, 2020 to April 30, 2020, limited to 30,000.\n",
    "results = client.get(\"2nrs-mtv8\", \n",
    "                     limit = 30000, \n",
    "                     where = \"date_rptd between '2020-03-01T00:00:00' and '2020-04-30T00:00:00'\"\n",
    "                    )"
   ]
  },
  {
   "cell_type": "code",
   "execution_count": null,
   "metadata": {},
   "outputs": [],
   "source": [
    "# Convert to pandas DataFrame\n",
    "df = pd.DataFrame.from_records(results)"
   ]
  },
  {
   "cell_type": "markdown",
   "metadata": {},
   "source": [
    "### Data Exploration and Analysis of Crime Data"
   ]
  },
  {
   "cell_type": "code",
   "execution_count": null,
   "metadata": {},
   "outputs": [],
   "source": [
    "# how many rows and columns?\n",
    "df.shape"
   ]
  },
  {
   "cell_type": "code",
   "execution_count": null,
   "metadata": {},
   "outputs": [],
   "source": [
    "# what fields and datatypes?\n",
    "df.info()"
   ]
  },
  {
   "cell_type": "code",
   "execution_count": null,
   "metadata": {},
   "outputs": [],
   "source": [
    "# First 5 rows?\n",
    "df.head()"
   ]
  },
  {
   "cell_type": "code",
   "execution_count": null,
   "metadata": {},
   "outputs": [],
   "source": [
    "# Let's create a bar graph and add labels.\n",
    "px.bar(df,\n",
    "       x='date_rptd',\n",
    "       title='Crime Rates in Los Angeles, March to April 2020',\n",
    "       labels={'date_rptd':'Date of Crimes','count':'Number of Crimes'}\n",
    "      )"
   ]
  },
  {
   "cell_type": "code",
   "execution_count": null,
   "metadata": {},
   "outputs": [],
   "source": [
    "# Let's look at the distinct value of charges\n",
    "df.crm_cd_desc.unique()"
   ]
  },
  {
   "cell_type": "code",
   "execution_count": null,
   "metadata": {},
   "outputs": [],
   "source": [
    "# Let's look at  the top 25 distinct value of charges\n",
    "crime_by_type = df.crm_cd_desc.value_counts().reset_index()\n",
    "crime_by_type.head(25)"
   ]
  },
  {
   "cell_type": "code",
   "execution_count": null,
   "metadata": {},
   "outputs": [],
   "source": [
    "# Rename our columns\n",
    "crime_by_type.columns=['crime','count']\n",
    "crime_by_type.head(25)"
   ]
  },
  {
   "cell_type": "code",
   "execution_count": null,
   "metadata": {
    "scrolled": true
   },
   "outputs": [],
   "source": [
    "# Let's create a bar chart to represent the Top 25 Crimes.\n",
    "px.bar(crime_by_type.head(25).sort_values(by='count',ascending=True),\n",
    "       y='crime',\n",
    "       x='count',\n",
    "       orientation= 'h',\n",
    "       title='Crime Rates in Los Angeles, March to April 2020')"
   ]
  },
  {
   "cell_type": "code",
   "execution_count": null,
   "metadata": {},
   "outputs": [],
   "source": [
    "# Now, let's subset our data and begin mapping the dataset.\n",
    "df.info()"
   ]
  },
  {
   "cell_type": "markdown",
   "metadata": {},
   "source": [
    "Let's eliminate the unnecessary fields and create a subset of the data with just the following fields:\n",
    "\n",
    "- `date_rptd`\n",
    "- `crm_cd`\n",
    "- `crm_cd_desc`\n",
    "- `lat`\n",
    "- `lon`"
   ]
  },
  {
   "cell_type": "code",
   "execution_count": null,
   "metadata": {},
   "outputs": [],
   "source": [
    "# subset the data\n",
    "df_mini = df[['date_rptd','crm_cd','crm_cd_desc','lat','lon']].copy()\n",
    "df_mini.head()"
   ]
  },
  {
   "cell_type": "code",
   "execution_count": null,
   "metadata": {},
   "outputs": [],
   "source": [
    "# Check the info for our subset data\n",
    "df_mini.info()"
   ]
  },
  {
   "cell_type": "code",
   "execution_count": null,
   "metadata": {},
   "outputs": [],
   "source": [
    "# Now we want to convert latitude and longitude to floats\n",
    "df_mini['lat'] = df_mini['lat'].astype(float)\n",
    "df_mini['lon'] = df_mini['lon'].astype(float)\n",
    "df_mini.info()"
   ]
  },
  {
   "cell_type": "code",
   "execution_count": null,
   "metadata": {},
   "outputs": [],
   "source": [
    "# What if we try to map it with plotly?\n",
    "fig = px.scatter_mapbox(df_mini,\n",
    "                        lat='lat',\n",
    "                        lon='lon',\n",
    "                        mapbox_style=\"stamen-terrain\")\n",
    "fig.show()"
   ]
  },
  {
   "cell_type": "markdown",
   "metadata": {},
   "source": [
    "# Group Contributions\n",
    "1. Donna Heydar (Donna contributed to breaking down the educational attainment data in Los Angeles County. Both members discussed which datasets to use and discussed similarities between the two after breaking them down. Donna also contributed to the data exploration and analysis of Crime data in LA as well as COVID-19 data,)\n",
    "2. Daniel Ruiz (Daniel contributed to breaking down the household income data in Los Angeles County. Both members discussed which datasets to use and discussed similarities between the two after breaking them down. Daniel also contributed to the data exploration and analysis of HOLC Redlining. He also contributed to the comparison between education  income, and homeownership in Los Angeles.)"
   ]
  }
 ],
 "metadata": {
  "kernelspec": {
   "display_name": "Python 3",
   "language": "python",
   "name": "python3"
  },
  "language_info": {
   "codemirror_mode": {
    "name": "ipython",
    "version": 3
   },
   "file_extension": ".py",
   "mimetype": "text/x-python",
   "name": "python",
   "nbconvert_exporter": "python",
   "pygments_lexer": "ipython3",
   "version": "3.8.5"
  },
  "toc": {
   "base_numbering": 1,
   "nav_menu": {},
   "number_sections": true,
   "sideBar": true,
   "skip_h1_title": false,
   "title_cell": "Table of Contents",
   "title_sidebar": "Contents",
   "toc_cell": false,
   "toc_position": {},
   "toc_section_display": true,
   "toc_window_display": false
  }
 },
 "nbformat": 4,
 "nbformat_minor": 4
}
