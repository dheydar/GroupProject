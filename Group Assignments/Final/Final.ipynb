{
 "cells": [
  {
   "cell_type": "markdown",
   "metadata": {},
   "source": [
    "# Research Question\n",
    "For our project, we will be researching crime data in Los Angeles and how that data is affected by various variables such as COVID-19, educational attainment, and household income. Due to the global pandemic, crime rates have fluctuated substantially due to the lockdown and the reopening of the county."
   ]
  },
  {
   "cell_type": "markdown",
   "metadata": {},
   "source": [
    "# Data Sources\n",
    "- Crime Data from 2020 to present, https://data.lacity.org/A-Safe-City/Crime-Data-from-2020-to-Present/2nrs-mtv8\n",
    "- COVID-19 Data from 2020 to present, https://github.com/datadesk/california-coronavirus-data/blob/master/latimes-place-totals.csv\n",
    "- Household Income for LA County (2018), Social Explorer\n",
    "- White vs. Non-White Homeowners (2018), Social Explorer\n",
    "- Mapping Inequality/ Home Owners Loan Corporation (HOLC) LA Redlining Map (1939), clsl.richmond.edu \n",
    "- LA Times - Neighborhoods, http://boundaries.latimes.com/sets/\n",
    "\n",
    "*Note: We removed the Education Attainment dataset from Social Explorer because we decided that we have too many variables to compare.\n"
   ]
  },
  {
   "cell_type": "markdown",
   "metadata": {},
   "source": [
    "# Data Exploration and Analysis\n",
    "\n",
    "Now we want to explore our data sources and provide an analysis of our datasets."
   ]
  },
  {
   "cell_type": "markdown",
   "metadata": {},
   "source": [
    "## COVID-19 Rates in California\n",
    "We will begin our data exploration by importing the current COVID-19 data from the LA times."
   ]
  },
  {
   "cell_type": "code",
   "execution_count": null,
   "metadata": {},
   "outputs": [],
   "source": [
    "import plotly.express as px\n",
    "import pandas as pd"
   ]
  },
  {
   "cell_type": "code",
   "execution_count": null,
   "metadata": {},
   "outputs": [],
   "source": [
    "latimes = pd.read_csv(\n",
    "    \"https://raw.githubusercontent.com/datadesk/california-coronavirus-data/master/latimes-place-totals.csv\")"
   ]
  },
  {
   "cell_type": "code",
   "execution_count": null,
   "metadata": {},
   "outputs": [],
   "source": [
    "# Now we want to get some basic statistics from the dataset. How many rows and columns?\n",
    "latimes.shape"
   ]
  },
  {
   "cell_type": "code",
   "execution_count": null,
   "metadata": {},
   "outputs": [],
   "source": [
    "#What are the first 5 rows?\n",
    "latimes.head()"
   ]
  },
  {
   "cell_type": "code",
   "execution_count": null,
   "metadata": {},
   "outputs": [],
   "source": [
    "# dataframe info?\n",
    "latimes.info()"
   ]
  },
  {
   "cell_type": "code",
   "execution_count": null,
   "metadata": {},
   "outputs": [],
   "source": [
    "# Next, we want to clean up the data. This includes empty coordinates, empty confirmed cases, and incorrect coordinates (Note: positive longitudes do not exist in California)\n",
    "# We do this by using the .query() method that allows us to query and filter the dataset using SQL syntax.\n",
    "latimes.query(\"confirmed_cases == 'NaN'\")"
   ]
  },
  {
   "cell_type": "code",
   "execution_count": null,
   "metadata": {},
   "outputs": [],
   "source": [
    "# NaN values for 'x'?\n",
    "latimes.query(\"x == 'NaN'\")"
   ]
  },
  {
   "cell_type": "code",
   "execution_count": null,
   "metadata": {},
   "outputs": [],
   "source": [
    "#NaN values for 'y'?\n",
    "latimes.query(\"y == 'NaN'\")"
   ]
  },
  {
   "cell_type": "code",
   "execution_count": null,
   "metadata": {},
   "outputs": [],
   "source": [
    "# Positive longitude coordinates?\n",
    "latimes.query(\"x > 0\")"
   ]
  },
  {
   "cell_type": "code",
   "execution_count": null,
   "metadata": {},
   "outputs": [],
   "source": [
    "# Do we have any null dates?\n",
    "latimes.query(\"date.isnull()\", engine='python')"
   ]
  },
  {
   "cell_type": "code",
   "execution_count": null,
   "metadata": {},
   "outputs": [],
   "source": [
    "# Now we will combine our arguments and clean the data:\n",
    "latimes = latimes.query(\"confirmed_cases != 'NaN' & x < 0 & x != 'NaN' & date.notnull()\", engine='python')\n",
    "latimes.head()"
   ]
  },
  {
   "cell_type": "code",
   "execution_count": null,
   "metadata": {},
   "outputs": [],
   "source": [
    "# How many records do we have now?\n",
    "latimes.shape\n",
    "# Less columns than before"
   ]
  },
  {
   "cell_type": "code",
   "execution_count": null,
   "metadata": {},
   "outputs": [],
   "source": [
    "# Now we want to look at more statistics in our dataset. Let's look at confirmed cases.\n",
    "latimes.confirmed_cases.describe()"
   ]
  },
  {
   "cell_type": "code",
   "execution_count": null,
   "metadata": {},
   "outputs": [],
   "source": [
    "# Let's see which counties in California have the most confirmed cases.\n",
    "latimes.groupby(\"county\").confirmed_cases.describe().sort_values(by=[\"max\"], ascending=False)"
   ]
  },
  {
   "cell_type": "code",
   "execution_count": null,
   "metadata": {},
   "outputs": [],
   "source": [
    "# Since our research question is focused on Los Angeles County, let's look at which cities in LA County have the highest confirmed cases. \n",
    "latimes_LA = latimes.query(\"county=='Los Angeles'\")"
   ]
  },
  {
   "cell_type": "code",
   "execution_count": null,
   "metadata": {},
   "outputs": [],
   "source": [
    "latimes_LA.groupby(\"place\").confirmed_cases.describe().sort_values(by=[\"max\"], ascending=False).head(50)"
   ]
  },
  {
   "cell_type": "code",
   "execution_count": null,
   "metadata": {},
   "outputs": [],
   "source": [
    "# Let's create a bar chart representing the confirmed cases in LA County overtime.\n",
    "LACounty = latimes.query(\"county == ['Los Angeles']\")\n",
    "px.bar(LACounty,\n",
    "      x='date',\n",
    "      y='confirmed_cases')"
   ]
  },
  {
   "cell_type": "code",
   "execution_count": null,
   "metadata": {},
   "outputs": [],
   "source": [
    "# Let's be more specific. Let's create a bar chart of the top three cities in LA County with the highest confirmed cases: Long Beach, East Los Angeles, and Pomona.\n",
    "TopLA = latimes.query(\"place == ['Long Beach','East Los Angeles','Pomona']\")\n",
    "px.bar(TopLA,\n",
    "      x='date',\n",
    "      y='confirmed_cases',\n",
    "      color = 'place')"
   ]
  },
  {
   "cell_type": "markdown",
   "metadata": {},
   "source": [
    "Now that we've looked at the top three cities with the highest confirmed COVID-19 cases, let's represent our dataset in a different visualization format. \n",
    "Let's create an animated scatter plot to represent the change overtime of confirmed cases in cities across LA County."
   ]
  },
  {
   "cell_type": "code",
   "execution_count": null,
   "metadata": {},
   "outputs": [],
   "source": [
    "# What is the mean of  confirmed cases in LA County?\n",
    "latimes_LA_mean = latimes_LA.confirmed_cases.mean()\n",
    "latimes_LA_mean"
   ]
  },
  {
   "cell_type": "code",
   "execution_count": null,
   "metadata": {
    "scrolled": false
   },
   "outputs": [],
   "source": [
    "# Now, let's put this information on a map.\n",
    "latimes_LA = latimes_LA.sort_values(by=\"date\", ascending=True)\n",
    "\n",
    "fig = px.scatter_geo(latimes_LA,\n",
    "           lon='x',\n",
    "           lat='y',\n",
    "           color='confirmed_cases', \n",
    "           size='confirmed_cases',\n",
    "           size_max=40, \n",
    "           hover_name='place',\n",
    "           scope='usa',                     \n",
    "           animation_frame='date',\n",
    "           color_continuous_scale = 'RdYlGn_r',\n",
    "           range_color = (0,latimes_LA_mean*2))\n",
    "\n",
    "fig.update_geos(fitbounds=\"locations\") \n"
   ]
  },
  {
   "cell_type": "markdown",
   "metadata": {},
   "source": [
    "## Crime Rates in the City of Los Angeles\n",
    "Let's look at crime rates in LA County from 2020 to present. We will begin by importing the data."
   ]
  },
  {
   "cell_type": "code",
   "execution_count": null,
   "metadata": {},
   "outputs": [],
   "source": [
    "import pandas as pd\n",
    "import plotly.express as px\n",
    "from sodapy import Socrata"
   ]
  },
  {
   "cell_type": "markdown",
   "metadata": {},
   "source": [
    "### Creating a Socrata Client\n",
    "Next, we acquire the data using the socrata API. \n",
    "- https://dev.socrata.com/foundry/data.lacity.org/2nrs-mtv8"
   ]
  },
  {
   "cell_type": "code",
   "execution_count": null,
   "metadata": {},
   "outputs": [],
   "source": [
    "# connect to the data portal\n",
    "client = Socrata(\"data.lacity.org\", None)\n",
    "\n",
    "# First 2000 results, returned as JSON from API / converted to Python list of\n",
    "# dictionaries by sodapy.\n",
    "results = client.get(\"2nrs-mtv8\", limit=2000)\n",
    "\n",
    "# Convert to pandas DataFrame\n",
    "df = pd.DataFrame.from_records(results)\n",
    "\n",
    "# print it with .sample, which gives you random rows\n",
    "df.sample(2)"
   ]
  },
  {
   "cell_type": "code",
   "execution_count": null,
   "metadata": {},
   "outputs": [],
   "source": [
    "# Now, we want to add a \"where\" statement to look at the data from March 1, 2020 to April 30, 2020, limited to 30,000.\n",
    "results = client.get(\"2nrs-mtv8\", \n",
    "                     limit = 30000, \n",
    "                     where = \"date_rptd between '2020-03-01T00:00:00' and '2020-04-30T00:00:00'\"\n",
    "                    )"
   ]
  },
  {
   "cell_type": "code",
   "execution_count": null,
   "metadata": {},
   "outputs": [],
   "source": [
    "# Convert to pandas DataFrame\n",
    "df = pd.DataFrame.from_records(results)"
   ]
  },
  {
   "cell_type": "markdown",
   "metadata": {},
   "source": [
    "### Data Exploration and Analysis of Crime Data"
   ]
  },
  {
   "cell_type": "code",
   "execution_count": null,
   "metadata": {},
   "outputs": [],
   "source": [
    "# how many rows and columns?\n",
    "df.shape"
   ]
  },
  {
   "cell_type": "code",
   "execution_count": null,
   "metadata": {},
   "outputs": [],
   "source": [
    "# what fields and datatypes?\n",
    "df.info()"
   ]
  },
  {
   "cell_type": "code",
   "execution_count": null,
   "metadata": {},
   "outputs": [],
   "source": [
    "# First 5 rows?\n",
    "df.head()"
   ]
  },
  {
   "cell_type": "code",
   "execution_count": null,
   "metadata": {
    "scrolled": true
   },
   "outputs": [],
   "source": [
    "# Let's make a bar graph with labels.\n",
    "px.bar(df,\n",
    "       x='date_rptd',\n",
    "       title='Crime Rates in Los Angeles, March to April 2020',\n",
    "       labels={'date_rptd':'Date of Crimes','count':'Number of Crimes'}\n",
    "      )"
   ]
  },
  {
   "cell_type": "code",
   "execution_count": null,
   "metadata": {},
   "outputs": [],
   "source": [
    "# first convert the date field to a datetime type\n",
    "df['date_rptd'] = pd.to_datetime(df['date_rptd'])"
   ]
  },
  {
   "cell_type": "code",
   "execution_count": null,
   "metadata": {},
   "outputs": [],
   "source": [
    "# Grouping by month and day\n",
    "df_date = df.groupby([df[\"date_rptd\"].dt.month.rename('month'),df[\"date_rptd\"].dt.day.rename('day')],as_index=False).size().reset_index(name='count')"
   ]
  },
  {
   "cell_type": "code",
   "execution_count": null,
   "metadata": {},
   "outputs": [],
   "source": [
    "# Let's look at the distinct value of charges\n",
    "df.crm_cd_desc.unique()"
   ]
  },
  {
   "cell_type": "code",
   "execution_count": null,
   "metadata": {},
   "outputs": [],
   "source": [
    "df_date.head()"
   ]
  },
  {
   "cell_type": "code",
   "execution_count": null,
   "metadata": {},
   "outputs": [],
   "source": [
    "# create a label field\n",
    "df_date['label'] = df_date.month.astype('str')+'-'+df_date.day.astype('str')"
   ]
  },
  {
   "cell_type": "code",
   "execution_count": null,
   "metadata": {
    "scrolled": true
   },
   "outputs": [],
   "source": [
    "df_date.plot(figsize=(20,10),kind=\"bar\",x='label',y='count')"
   ]
  },
  {
   "cell_type": "code",
   "execution_count": null,
   "metadata": {},
   "outputs": [],
   "source": [
    "# Let's clean up the labels.\n",
    "px.bar(df,\n",
    "       x='date_rptd',\n",
    "       title='Crime Rates in Los Angeles, March to April 2020',\n",
    "       labels={'date_rptd':'Date of Crimes','count':'Number of Crimes'}\n",
    "      )"
   ]
  },
  {
   "cell_type": "code",
   "execution_count": null,
   "metadata": {
    "scrolled": false
   },
   "outputs": [],
   "source": [
    "# Let's look at  the top 25 distinct value of charges\n",
    "crime_by_type = df.crm_cd_desc.value_counts().reset_index()\n",
    "crime_by_type.head(25)"
   ]
  },
  {
   "cell_type": "code",
   "execution_count": null,
   "metadata": {},
   "outputs": [],
   "source": [
    "# Rename our columns\n",
    "crime_by_type.columns=['crime','count']\n",
    "crime_by_type.head(25)"
   ]
  },
  {
   "cell_type": "code",
   "execution_count": null,
   "metadata": {},
   "outputs": [],
   "source": [
    "# Let's create a horizontal bar chart.\n",
    "px.bar(crime_by_type.head(25).sort_values(by='count',ascending=True),\n",
    "       y='crime',\n",
    "       x='count',\n",
    "       orientation= 'h',\n",
    "       height=800,\n",
    "       width=900,\n",
    "       title='Crime Rates in Los Angeles, March to April 2020')"
   ]
  },
  {
   "cell_type": "code",
   "execution_count": null,
   "metadata": {},
   "outputs": [],
   "source": [
    "# Now, let's subset our data and begin mapping the dataset.\n",
    "df.info()"
   ]
  },
  {
   "cell_type": "markdown",
   "metadata": {},
   "source": [
    "Let's eliminate the unnecessary fields and create a subset of the data with just the following fields:\n",
    "\n",
    "- `date_rptd`\n",
    "- `crm_cd`\n",
    "- `crm_cd_desc`\n",
    "- `lat`\n",
    "- `lon`"
   ]
  },
  {
   "cell_type": "code",
   "execution_count": null,
   "metadata": {},
   "outputs": [],
   "source": [
    "# subset the data\n",
    "df_mini = df[['date_rptd','crm_cd','crm_cd_desc','lat','lon']].copy()\n",
    "df_mini.head()"
   ]
  },
  {
   "cell_type": "code",
   "execution_count": null,
   "metadata": {},
   "outputs": [],
   "source": [
    "# Check the info for our subset data\n",
    "df_mini.info()"
   ]
  },
  {
   "cell_type": "code",
   "execution_count": null,
   "metadata": {},
   "outputs": [],
   "source": [
    "# Now we want to convert latitude and longitude to floats\n",
    "df_mini['lat'] = df_mini['lat'].astype(float)\n",
    "df_mini['lon'] = df_mini['lon'].astype(float)\n",
    "df_mini.info()"
   ]
  },
  {
   "cell_type": "code",
   "execution_count": null,
   "metadata": {
    "scrolled": false
   },
   "outputs": [],
   "source": [
    "fig = px.scatter_mapbox(df_mini,\n",
    "                        lat='lat',\n",
    "                        lon='lon',\n",
    "                        mapbox_style=\"stamen-terrain\")\n",
    "fig.show()"
   ]
  },
  {
   "cell_type": "markdown",
   "metadata": {},
   "source": [
    "### Creating a Function\n",
    "Now, we want to create a function and create multi-layered maps."
   ]
  },
  {
   "cell_type": "code",
   "execution_count": null,
   "metadata": {},
   "outputs": [],
   "source": [
    "import geopandas as gpd\n",
    "# for basemaps\n",
    "import contextily as ctx"
   ]
  },
  {
   "cell_type": "code",
   "execution_count": null,
   "metadata": {},
   "outputs": [],
   "source": [
    "# get neighborhood boundaries from the LA Times\n",
    "neighborhoods = gpd.read_file('http://s3-us-west-2.amazonaws.com/boundaries.latimes.com/archive/1.0/boundary-set/la-county-neighborhoods-v5.geojson')"
   ]
  },
  {
   "cell_type": "code",
   "execution_count": null,
   "metadata": {},
   "outputs": [],
   "source": [
    "# trim the data to the bare minimum columns\n",
    "neighborhoods = neighborhoods[['name','geometry']]\n",
    "neighborhoods.head()"
   ]
  },
  {
   "cell_type": "code",
   "execution_count": null,
   "metadata": {},
   "outputs": [],
   "source": [
    "# get the layers into a web mercator projection\n",
    "# reproject to web mercator\n",
    "neighborhoods = neighborhoods.to_crs(epsg=3857)"
   ]
  },
  {
   "cell_type": "code",
   "execution_count": null,
   "metadata": {
    "scrolled": false
   },
   "outputs": [],
   "source": [
    "# plot it!\n",
    "ax=neighborhoods.plot(figsize=(12,12),\n",
    "                      color='gray', \n",
    "                      edgecolor='white',\n",
    "                      alpha=0.5)\n",
    "\n",
    "# no axis\n",
    "ax.axis('off')\n",
    "\n",
    "# add a basemap\n",
    "ctx.add_basemap(ax,source=ctx.providers.CartoDB.Positron)"
   ]
  },
  {
   "cell_type": "code",
   "execution_count": null,
   "metadata": {},
   "outputs": [],
   "source": [
    "# columns\n",
    "list(df)"
   ]
  },
  {
   "cell_type": "code",
   "execution_count": null,
   "metadata": {},
   "outputs": [],
   "source": [
    "# convert pandas dataframe to geodataframe\n",
    "crimes = gpd.GeoDataFrame(df, \n",
    "                         crs='EPSG:4326',\n",
    "                         geometry=gpd.points_from_xy(df.lon, df.lat))"
   ]
  },
  {
   "cell_type": "code",
   "execution_count": null,
   "metadata": {},
   "outputs": [],
   "source": [
    "# get the layers into a web mercator projection\n",
    "# reproject to web mercator\n",
    "crimes = crimes.to_crs(epsg=3857)"
   ]
  },
  {
   "cell_type": "code",
   "execution_count": null,
   "metadata": {},
   "outputs": [],
   "source": [
    "# drop the unmapped rows\n",
    "crimes[crimes.lon==0]\n",
    "crimes.drop(crimes[crimes.lon==0].index,inplace=True)"
   ]
  },
  {
   "cell_type": "code",
   "execution_count": null,
   "metadata": {
    "scrolled": true
   },
   "outputs": [],
   "source": [
    "# Now let's map it.\n",
    "ax = crimes.plot(figsize=(12,12),color='red')\n",
    "crimes.drop(crimes[crimes.lon==0].index,inplace=True)\n",
    "\n",
    "# no axis\n",
    "ax.axis('off')\n",
    "\n",
    "# add a basemap\n",
    "ctx.add_basemap(ax,source=ctx.providers.CartoDB.Positron)"
   ]
  },
  {
   "cell_type": "markdown",
   "metadata": {},
   "source": [
    "After multiple attempts of dropping the zero coordinate records here, we did not have success. However, we are still able to produce a two-layer map at the end."
   ]
  },
  {
   "cell_type": "code",
   "execution_count": null,
   "metadata": {},
   "outputs": [],
   "source": [
    "# Now we want to create a two-layered map.\n",
    "# first, we define which layers will be our \"base\"\n",
    "base = neighborhoods.plot(figsize=(12,10),\n",
    "                      color='gray', \n",
    "                      edgecolor='white',\n",
    "                      alpha=0.5)\n",
    "\n",
    "# define the layer that will go on top, and add the base layer to the `ax` argument\n",
    "ax = crimes.plot(ax=base, color='red', markersize=5)\n",
    "\n",
    "# no axis\n",
    "ax.axis('off')\n",
    "\n",
    "# add a basemap\n",
    "ctx.add_basemap(ax,source=ctx.providers.CartoDB.Positron)"
   ]
  },
  {
   "cell_type": "code",
   "execution_count": null,
   "metadata": {},
   "outputs": [],
   "source": [
    "# get the bounding box coordinates for the crime data\n",
    "crimes.geometry.total_bounds"
   ]
  },
  {
   "cell_type": "code",
   "execution_count": null,
   "metadata": {},
   "outputs": [],
   "source": [
    "# shortcut to put them into their own variables\n",
    "minx, miny, maxx, maxy = crimes.geometry.total_bounds\n",
    "print(minx)\n",
    "print(maxx)\n",
    "print(miny)\n",
    "print(maxy)"
   ]
  },
  {
   "cell_type": "code",
   "execution_count": null,
   "metadata": {
    "scrolled": false
   },
   "outputs": [],
   "source": [
    "# use the bounding box coordinates to set the x and y limits\n",
    "base = neighborhoods.plot(figsize=(12,12),\n",
    "                          color='gray', \n",
    "                          edgecolor='white',\n",
    "                          alpha=0.5)\n",
    "\n",
    "ax = crimes.plot(ax=base, \n",
    "                color='red', \n",
    "                markersize=5\n",
    "               )\n",
    "\n",
    "ax.set_xlim(minx - 1000, maxx + 1000) # added/substracted value is to give some margin around total bounds\n",
    "ax.set_ylim(miny - 1000, maxy + 1000)\n",
    "\n",
    "# no axis\n",
    "ax.axis('off')\n",
    "\n",
    "# add a basemap\n",
    "ctx.add_basemap(ax,source=ctx.providers.CartoDB.Positron)\n",
    "\n",
    "ax"
   ]
  },
  {
   "cell_type": "code",
   "execution_count": null,
   "metadata": {
    "scrolled": false
   },
   "outputs": [],
   "source": [
    "# subset the neighborhoods geodataframe for a single neighborhood\n",
    "neighborhood = neighborhoods[neighborhoods.name=='Downtown']\n",
    "\n",
    "# use the bounding box coordinates to set the x and y limits\n",
    "minx, miny, maxx, maxy = neighborhood.geometry.total_bounds\n",
    "\n",
    "# do a spatial join to get crime in neighborhood\n",
    "crimes_in_neighborhood = gpd.sjoin(crimes,neighborhood,how='inner')\n",
    "\n",
    "# define the base layer to be the neighborhood polygon\n",
    "base = neighborhood.plot(figsize=(12,12),\n",
    "                         color='red', \n",
    "                         edgecolor='red',\n",
    "                         alpha=0.1)\n",
    "\n",
    "# add the crime data, making sure to add the neighborhood polygon\n",
    "ax = crimes_in_neighborhood.plot(ax=base, \n",
    "                                column='crm_cd_desc', \n",
    "                                markersize=40, \n",
    "                                legend=True,\n",
    "                                cmap='tab20',\n",
    "                                legend_kwds={\n",
    "                                   'loc': 'upper right',\n",
    "                                   'bbox_to_anchor':(1.6,1)\n",
    "                                }                  # this puts the legend to the side\n",
    "                            )\n",
    "\n",
    "# set the map extent to the extent of the neighborhood bounds\n",
    "ax.set_xlim(minx - 200, maxx + 200) # added/substracted value is to give some margin around total bounds\n",
    "ax.set_ylim(miny - 200, maxy + 200)\n",
    "\n",
    "# turn off the axis\n",
    "ax.axis('off')\n",
    "\n",
    "# add a title\n",
    "ax.set_title('March to April 2020 Crimes in '+neighborhood.name.values[0]+' LA',fontsize=20)\n",
    "\n",
    "# add a basemap\n",
    "ctx.add_basemap(ax,source=ctx.providers.CartoDB.Positron)\n",
    "ax"
   ]
  },
  {
   "cell_type": "markdown",
   "metadata": {},
   "source": [
    "### Spatial Autocorrelation Analysis\n",
    "Next, we will use the crime data to conduct a spatial autocorrelation analysis. We will begin by importing the necessary libraries."
   ]
  },
  {
   "cell_type": "code",
   "execution_count": null,
   "metadata": {},
   "outputs": [],
   "source": [
    "# to read and wrangle data\n",
    "import pandas as pd\n",
    "\n",
    "# to import data from LA Data portal\n",
    "from sodapy import Socrata\n",
    "\n",
    "# to create spatial data\n",
    "import geopandas as gpd\n",
    "\n",
    "# for basemaps\n",
    "import contextily as ctx\n",
    "\n",
    "# For spatial statistics\n",
    "import esda\n",
    "from esda.moran import Moran, Moran_Local\n",
    "\n",
    "import splot\n",
    "from splot.esda import moran_scatterplot, plot_moran, lisa_cluster,plot_moran_simulation\n",
    "\n",
    "import libpysal as lps\n",
    "\n",
    "# Graphics\n",
    "import matplotlib.pyplot as plt\n",
    "import plotly.express as px"
   ]
  },
  {
   "cell_type": "markdown",
   "metadata": {},
   "source": [
    "Next, we will bring in a census geography that will allow us to summarize the location of crimes committed in Los Angeles."
   ]
  },
  {
   "cell_type": "code",
   "execution_count": null,
   "metadata": {},
   "outputs": [],
   "source": [
    "# read downloaded geojson file from census reporter\n",
    "gdf = gpd.read_file('acs2018_5yr_B01003_15000US060372711003.geojson')"
   ]
  },
  {
   "cell_type": "code",
   "execution_count": null,
   "metadata": {},
   "outputs": [],
   "source": [
    "gdf.info()"
   ]
  },
  {
   "cell_type": "code",
   "execution_count": null,
   "metadata": {},
   "outputs": [],
   "source": [
    "# trim the data to the bare minimum columns\n",
    "gdf = gdf[['geoid','B01003001','geometry']]\n",
    "\n",
    "# rename the columns\n",
    "gdf.columns = ['FIPS','TotalPop','geometry']"
   ]
  },
  {
   "cell_type": "code",
   "execution_count": null,
   "metadata": {},
   "outputs": [],
   "source": [
    "gdf.tail()"
   ]
  },
  {
   "cell_type": "code",
   "execution_count": null,
   "metadata": {},
   "outputs": [],
   "source": [
    "# We want to delete last column which is for the entire city of LA\n",
    "gdf=gdf.drop(2515)"
   ]
  },
  {
   "cell_type": "code",
   "execution_count": null,
   "metadata": {
    "scrolled": true
   },
   "outputs": [],
   "source": [
    "# fix FIPS code\n",
    "gdf['FIPS'] = gdf['FIPS'].str.replace('15000US','')\n",
    "gdf.tail()"
   ]
  },
  {
   "cell_type": "code",
   "execution_count": null,
   "metadata": {},
   "outputs": [],
   "source": [
    "# sort by total pop\n",
    "gdf.sort_values(by='TotalPop').head(20)"
   ]
  },
  {
   "cell_type": "code",
   "execution_count": null,
   "metadata": {},
   "outputs": [],
   "source": [
    "# delete zero population geographies\n",
    "gdf = gdf[gdf['TotalPop']>100]"
   ]
  },
  {
   "cell_type": "markdown",
   "metadata": {},
   "source": [
    "Now, let's move on to mapping the census block groups."
   ]
  },
  {
   "cell_type": "code",
   "execution_count": null,
   "metadata": {},
   "outputs": [],
   "source": [
    "# get the layers into a web mercator projection\n",
    "# reproject to web mercator\n",
    "gdf = gdf.to_crs(epsg=3857)"
   ]
  },
  {
   "cell_type": "code",
   "execution_count": null,
   "metadata": {},
   "outputs": [],
   "source": [
    "# Now, we want to plot this information\n",
    "ax=gdf.plot(figsize=(12,12),\n",
    "                      color='grey', \n",
    "                      edgecolor='white',\n",
    "                      alpha=0.5)\n",
    "# no axis\n",
    "ax.axis('off')\n",
    "\n",
    "# add a basemap\n",
    "ctx.add_basemap(ax,source=ctx.providers.CartoDB.Positron)"
   ]
  },
  {
   "cell_type": "markdown",
   "metadata": {},
   "source": [
    "Now, we want to import crime data for Los Angeles from lacity.org. We will be using the timeline of March to April 2020 because the data is so dense."
   ]
  },
  {
   "cell_type": "code",
   "execution_count": null,
   "metadata": {},
   "outputs": [],
   "source": [
    "# Next, we will connect to the data portal\n",
    "client = Socrata(\"data.lacity.org\", None)\n",
    "\n",
    "results = client.get(\"2nrs-mtv8\", \n",
    "                     limit=30000,\n",
    "                     where = \"date_rptd between '2020-03-01T00:00:00' and '2020-04-30T00:00:00'\",\n",
    "                     order='crm_cd_desc')\n",
    "\n",
    "# Convert to pandas DataFrame\n",
    "crimes = pd.DataFrame.from_records(results)"
   ]
  },
  {
   "cell_type": "code",
   "execution_count": null,
   "metadata": {},
   "outputs": [],
   "source": [
    "crimes.shape"
   ]
  },
  {
   "cell_type": "code",
   "execution_count": null,
   "metadata": {},
   "outputs": [],
   "source": [
    "# convert pandas dataframe to geodataframe\n",
    "crimes = gpd.GeoDataFrame(crimes, \n",
    "                         crs='EPSG:4326',\n",
    "                         geometry=gpd.points_from_xy(crimes.lon, crimes.lat))"
   ]
  },
  {
   "cell_type": "code",
   "execution_count": null,
   "metadata": {},
   "outputs": [],
   "source": [
    "# get the layers into a web mercator projection\n",
    "# reproject to web mercator\n",
    "crimes = crimes.to_crs(epsg=3857)"
   ]
  },
  {
   "cell_type": "code",
   "execution_count": null,
   "metadata": {},
   "outputs": [],
   "source": [
    "# convert lat/lon to floats\n",
    "crimes.lon = crimes.lon.astype('float')\n",
    "crimes.lat = crimes.lat.astype('float')"
   ]
  },
  {
   "cell_type": "code",
   "execution_count": null,
   "metadata": {},
   "outputs": [],
   "source": [
    "# Let's map it\n",
    "ax = crimes.plot(figsize=(12,12),\n",
    "                  color='red',\n",
    "                  markersize=1)\n",
    "\n",
    "# no axis\n",
    "ax.axis('off')\n",
    "\n",
    "# add a basemap\n",
    "ctx.add_basemap(ax,source=ctx.providers.CartoDB.Positron)"
   ]
  },
  {
   "cell_type": "code",
   "execution_count": null,
   "metadata": {},
   "outputs": [],
   "source": [
    "# Now we want to fix the error we se above. We want to subset the zero coordinate records\n",
    "crimes[crimes.lon==0]"
   ]
  },
  {
   "cell_type": "code",
   "execution_count": null,
   "metadata": {},
   "outputs": [],
   "source": [
    "# drop the unmapped rows\n",
    "crimes.drop(crimes[crimes.lon==0].index,inplace=True)"
   ]
  },
  {
   "cell_type": "code",
   "execution_count": null,
   "metadata": {},
   "outputs": [],
   "source": [
    "# Let's map it again and see what it looks like\n",
    "ax = crimes.plot(figsize=(12,12),\n",
    "                  color='blue',\n",
    "                  markersize=1,\n",
    "                  alpha=0.5)\n",
    "\n",
    "# no axis\n",
    "ax.axis('off')\n",
    "\n",
    "# add a basemap\n",
    "ctx.add_basemap(ax,source=ctx.providers.CartoDB.Positron)"
   ]
  },
  {
   "cell_type": "markdown",
   "metadata": {},
   "source": [
    "Now, we want to combine both the layers we have created."
   ]
  },
  {
   "cell_type": "code",
   "execution_count": null,
   "metadata": {},
   "outputs": [],
   "source": [
    "# get the bounding box coordinates for the arrest data\n",
    "minx, miny, maxx, maxy = crimes.geometry.total_bounds\n",
    "print(minx)\n",
    "print(maxx)\n",
    "print(miny)\n",
    "print(maxy)"
   ]
  },
  {
   "cell_type": "code",
   "execution_count": null,
   "metadata": {},
   "outputs": [],
   "source": [
    "# set up the plot canvas with plt.subplots\n",
    "fig, ax = plt.subplots(figsize=(15, 15))\n",
    "\n",
    "# block groups\n",
    "gdf.plot(ax=ax, # this puts it in the ax plot\n",
    "        color='gray', \n",
    "        edgecolor='white',\n",
    "        alpha=0.5)\n",
    "\n",
    "# arrests\n",
    "crimes.plot(ax=ax, # this also puts it in the same ax plot\n",
    "            color='blue',\n",
    "            markersize=1,\n",
    "            alpha=0.2)\n",
    "\n",
    "# use the bounding box coordinates to set the x and y limits\n",
    "ax.set_xlim(minx - 1000, maxx + 1000) # added/substracted value is to give some margin around total bounds\n",
    "ax.set_ylim(miny - 1000, maxy + 1000)\n",
    "\n",
    "# no axis\n",
    "ax.axis('off')\n",
    "\n",
    "# add a basemap\n",
    "ctx.add_basemap(ax,source=ctx.providers.CartoDB.Positron)"
   ]
  },
  {
   "cell_type": "markdown",
   "metadata": {},
   "source": [
    "Next, we want to perform a spatial join."
   ]
  },
  {
   "cell_type": "code",
   "execution_count": null,
   "metadata": {},
   "outputs": [],
   "source": [
    "join = gpd.sjoin(gdf, crimes, how='right')\n",
    "join.head()"
   ]
  },
  {
   "cell_type": "code",
   "execution_count": null,
   "metadata": {},
   "outputs": [],
   "source": [
    "crimes_by_gdf = join.FIPS.value_counts().rename_axis('FIPS').reset_index(name='crimes_count')"
   ]
  },
  {
   "cell_type": "code",
   "execution_count": null,
   "metadata": {},
   "outputs": [],
   "source": [
    "crimes_by_gdf.head()"
   ]
  },
  {
   "cell_type": "code",
   "execution_count": null,
   "metadata": {},
   "outputs": [],
   "source": [
    "# make a bar chart of top 20 geographies\n",
    "crimes_by_gdf[:20].plot.bar(figsize=(20,4),\n",
    "                             x='FIPS',\n",
    "                             y='crimes_count')"
   ]
  },
  {
   "cell_type": "markdown",
   "metadata": {},
   "source": [
    "Now, we want to join the summary table back to the GeoDataFrame."
   ]
  },
  {
   "cell_type": "code",
   "execution_count": null,
   "metadata": {},
   "outputs": [],
   "source": [
    "gdf=gdf.merge(crimes_by_gdf,on='FIPS')"
   ]
  },
  {
   "cell_type": "code",
   "execution_count": null,
   "metadata": {},
   "outputs": [],
   "source": [
    "#Now, we have a count column.\n",
    "gdf.head()"
   ]
  },
  {
   "cell_type": "markdown",
   "metadata": {},
   "source": [
    "Now, let's look at crimes committed in Los Angeles per 1000 people."
   ]
  },
  {
   "cell_type": "code",
   "execution_count": null,
   "metadata": {},
   "outputs": [],
   "source": [
    "gdf['crimes_per_1000'] = gdf['crimes_count']/gdf['TotalPop']*1000"
   ]
  },
  {
   "cell_type": "code",
   "execution_count": null,
   "metadata": {},
   "outputs": [],
   "source": [
    "gdf.sort_values(by=\"crimes_per_1000\").tail()"
   ]
  },
  {
   "cell_type": "code",
   "execution_count": null,
   "metadata": {
    "scrolled": true
   },
   "outputs": [],
   "source": [
    "# map the top 20 geographies\n",
    "ax = gdf.sort_values(by='crimes_per_1000',ascending=False)[:20].plot(figsize=(12,10),\n",
    "                                                             color='blue',\n",
    "                                                             edgecolor='white',\n",
    "                                                             alpha=0.5,legend=True)\n",
    "\n",
    "\n",
    "# title\n",
    "ax.set_title('Top 20 locations of Crimes Committed in Los Angeles per 1000 people (March-April 2020)')\n",
    "\n",
    "# no axis\n",
    "ax.axis('off')\n",
    "\n",
    "# add a basemap\n",
    "ctx.add_basemap(ax,source=ctx.providers.CartoDB.Positron)"
   ]
  },
  {
   "cell_type": "code",
   "execution_count": null,
   "metadata": {},
   "outputs": [],
   "source": [
    "#Let's make a choropleth map\n",
    "ax = gdf.plot(figsize=(15,15),\n",
    "                        column='crimes_per_1000',\n",
    "                        legend=True,\n",
    "                        alpha=0.8,\n",
    "                        cmap='Blues',\n",
    "                        scheme='quantiles')\n",
    "\n",
    "ax.axis('off')\n",
    "ax.set_title('March to April 2020 crimes committed in LA per 1000 people',fontsize=22)\n",
    "ctx.add_basemap(ax,source=ctx.providers.CartoDB.Positron)"
   ]
  },
  {
   "cell_type": "markdown",
   "metadata": {},
   "source": [
    "Now, we want to conduct spatial autocrrelation to determine what degree an existing pattern could potentially be random.\n",
    "\n",
    "We will be using Moran's I statistic."
   ]
  },
  {
   "cell_type": "code",
   "execution_count": null,
   "metadata": {},
   "outputs": [],
   "source": [
    "wq =  lps.weights.KNN.from_dataframe(gdf,k=8)\n",
    "wq.transform = 'r'"
   ]
  },
  {
   "cell_type": "code",
   "execution_count": null,
   "metadata": {},
   "outputs": [],
   "source": [
    "# create a new column for the spatial lag\n",
    "gdf['crimes_per_1000_lag'] = lps.weights.lag_spatial(wq, gdf['crimes_per_1000'])"
   ]
  },
  {
   "cell_type": "code",
   "execution_count": null,
   "metadata": {},
   "outputs": [],
   "source": [
    "gdf.sort_values(by='crimes_per_1000',ascending=False).sample(10)"
   ]
  },
  {
   "cell_type": "markdown",
   "metadata": {},
   "source": [
    "Now, let's consider the donut and diamond geographies to better understand the significance of the spatial lag values."
   ]
  },
  {
   "cell_type": "code",
   "execution_count": null,
   "metadata": {},
   "outputs": [],
   "source": [
    "gdf[gdf['FIPS'].isin(['060372739022', '060379800241'])]"
   ]
  },
  {
   "cell_type": "code",
   "execution_count": null,
   "metadata": {},
   "outputs": [],
   "source": [
    "# set the mapbox access token\n",
    "token = 'pk.eyJ1IjoiZGhleWRhciIsImEiOiJja2llM3k3bHExYTN5Mnlueng0ZTd6bGQ2In0.TIg8HNU19SXwuGSdJSkRtQ'\n",
    "px.set_mapbox_access_token(token)"
   ]
  },
  {
   "cell_type": "code",
   "execution_count": null,
   "metadata": {},
   "outputs": [],
   "source": [
    "# subset donut, project to WGS84, and get its centroid\n",
    "gdf_donut = gdf[gdf.FIPS=='060372739022']\n",
    "gdf_donut = gdf_donut.to_crs('epsg:4326')\n",
    "\n",
    "# what's the centroid?\n",
    "minx, miny, maxx, maxy = gdf_donut.geometry.total_bounds\n",
    "center_lat_donut = (maxy-miny)/2+miny\n",
    "center_lon_donut = (maxx-minx)/2+minx"
   ]
  },
  {
   "cell_type": "code",
   "execution_count": null,
   "metadata": {},
   "outputs": [],
   "source": [
    "# subset diamond, project to WGS84, and get its centroid\n",
    "gdf_diamond = gdf[gdf.FIPS=='060379800241']\n",
    "gdf_diamond = gdf_diamond.to_crs('epsg:4326')\n",
    "\n",
    "# what's the centroid?\n",
    "minx, miny, maxx, maxy = gdf_diamond.geometry.total_bounds\n",
    "center_lat_diamond = (maxy-miny)/2+miny\n",
    "center_lon_diamond = (maxx-minx)/2+minx"
   ]
  },
  {
   "cell_type": "code",
   "execution_count": null,
   "metadata": {},
   "outputs": [],
   "source": [
    "px.choropleth_mapbox(gdf_donut, \n",
    "                     geojson=gdf_donut.geometry, \n",
    "                     locations=gdf_donut.index, \n",
    "                     mapbox_style=\"satellite-streets\",\n",
    "                     zoom=14, \n",
    "                     center = {\"lat\": center_lat_donut, \"lon\": center_lon_donut},\n",
    "                     hover_data=['crimes_count','crimes_per_1000','crimes_per_1000_lag'],\n",
    "                     opacity=0.4,\n",
    "                     title='The Donut')"
   ]
  },
  {
   "cell_type": "code",
   "execution_count": null,
   "metadata": {},
   "outputs": [],
   "source": [
    "px.choropleth_mapbox(gdf_diamond, \n",
    "                     geojson=gdf_diamond.geometry, \n",
    "                     locations=gdf_diamond.index, \n",
    "                     mapbox_style=\"satellite-streets\",\n",
    "                     zoom=12, \n",
    "                     center = {\"lat\": center_lat_diamond, \"lon\": center_lon_diamond},\n",
    "                     hover_data=['crimes_count','crimes_per_1000','crimes_per_1000_lag'],\n",
    "                     opacity=0.4,\n",
    "                     title='The Diamond')"
   ]
  },
  {
   "cell_type": "markdown",
   "metadata": {},
   "source": [
    "Now, we want to map the entire dataframe with the new spatial lag column we created."
   ]
  },
  {
   "cell_type": "code",
   "execution_count": null,
   "metadata": {},
   "outputs": [],
   "source": [
    "fig, ax = plt.subplots(figsize=(15, 15))\n",
    "\n",
    "# spatial lag choropleth\n",
    "gdf.plot(ax=ax,\n",
    "         figsize=(15,15),\n",
    "         column='crimes_per_1000_lag',\n",
    "         legend=True,\n",
    "         alpha=0.8,\n",
    "         cmap='Blues',\n",
    "         scheme='quantiles')\n",
    "\n",
    "# uncomment this to see the actual point locations of arrests\n",
    "# arrests.plot(ax=ax, \n",
    "#              color='blue',\n",
    "#              markersize =1,\n",
    "#              alpha=0.2, \n",
    "#              legend=True)\n",
    "\n",
    "ax.axis('off')\n",
    "ax.set_title('March-April 2020 Crimes Committed in Los Angeles per 1000 people',fontsize=22)\n",
    "\n",
    "ctx.add_basemap(ax,source=ctx.providers.CartoDB.Positron)"
   ]
  },
  {
   "cell_type": "markdown",
   "metadata": {},
   "source": [
    "Let's compare this with the spatial lag map."
   ]
  },
  {
   "cell_type": "code",
   "execution_count": null,
   "metadata": {},
   "outputs": [],
   "source": [
    "fig, axs = plt.subplots(1, 2, figsize=(15, 8))\n",
    "\n",
    "ax1, ax2 = axs\n",
    "\n",
    "# regular count map on the left\n",
    "gdf.plot(column='crimes_per_1000', \n",
    "            cmap='Blues', \n",
    "            scheme='quantiles',\n",
    "            k=5, \n",
    "            edgecolor='white', \n",
    "            linewidth=0., \n",
    "            alpha=0.75, \n",
    "            ax=ax1 \n",
    "           )\n",
    "\n",
    "\n",
    "ax1.axis(\"off\")\n",
    "ax1.set_title(\"Crimes Committed in Los Angeles per 1000\")\n",
    "\n",
    "# spatial lag map on the right\n",
    "gdf.plot(column='crimes_per_1000_lag', \n",
    "            cmap='Blues', \n",
    "            scheme='quantiles',\n",
    "            k=5, \n",
    "            edgecolor='white', \n",
    "            linewidth=0., \n",
    "            alpha=0.75, \n",
    "            ax=ax2 \n",
    "           )\n",
    "\n",
    "ax2.axis(\"off\")\n",
    "ax2.set_title(\"Crimes Committed in Los Angeles per 1000 - Spatial Lag\")\n",
    "\n",
    "plt.show()"
   ]
  },
  {
   "cell_type": "markdown",
   "metadata": {},
   "source": [
    "Next, we want to create an interactive spatial lag satellite map."
   ]
  },
  {
   "cell_type": "code",
   "execution_count": null,
   "metadata": {},
   "outputs": [],
   "source": [
    "# interactive version needs to be in WGS84\n",
    "gdf_web = gdf.to_crs('EPSG:4326')"
   ]
  },
  {
   "cell_type": "code",
   "execution_count": null,
   "metadata": {},
   "outputs": [],
   "source": [
    "# what's the centroid?\n",
    "minx, miny, maxx, maxy = gdf_web.geometry.total_bounds\n",
    "center_lat_gdf_web = (maxy-miny)/2+miny\n",
    "center_lon_gdf_web = (maxx-minx)/2+minx"
   ]
  },
  {
   "cell_type": "code",
   "execution_count": null,
   "metadata": {},
   "outputs": [],
   "source": [
    "# the median?\n",
    "median = gdf_web.crimes_per_1000_lag.median()"
   ]
  },
  {
   "cell_type": "code",
   "execution_count": null,
   "metadata": {},
   "outputs": [],
   "source": [
    "fig = px.choropleth_mapbox(gdf_web, \n",
    "                     geojson=gdf_web.geometry, \n",
    "                     locations=gdf_web.index, \n",
    "                     mapbox_style=\"satellite-streets\",\n",
    "                     zoom=9, \n",
    "                     color='crimes_per_1000_lag',\n",
    "                     color_continuous_scale='Blues',\n",
    "                     color_continuous_midpoint =median,\n",
    "                     range_color =(0,median*2),\n",
    "                     hover_data=['crimes_count','crimes_per_1000','crimes_per_1000_lag'],\n",
    "                     center = {\"lat\": center_lat_gdf_web, \"lon\": center_lon_gdf_web},\n",
    "                     opacity=0.8,\n",
    "                     width=1200,\n",
    "                     height=800,\n",
    "                     labels={\n",
    "                             'crimes_per_1000_lag':'Crimes Committed in Los Angeles per 1000 (Spatial Lag)',\n",
    "                             'crimes_per_1000':'Crimes Committed in Los Angeles per 1000',\n",
    "                     })\n",
    "fig.update_traces(marker_line_width=0.1, marker_line_color='white')\n",
    "fig.update_layout(margin={\"r\":0,\"t\":0,\"l\":0,\"b\":0})"
   ]
  },
  {
   "cell_type": "markdown",
   "metadata": {},
   "source": [
    "Let's move towards the Moran's Plot."
   ]
  },
  {
   "cell_type": "code",
   "execution_count": null,
   "metadata": {
    "scrolled": true
   },
   "outputs": [],
   "source": [
    "y = gdf.crimes_per_1000\n",
    "moran = Moran(y, wq)\n",
    "moran.I"
   ]
  },
  {
   "cell_type": "markdown",
   "metadata": {},
   "source": [
    "We have a positive spatial autocorrelation, which means high values are close to high values, or low values are close to low values."
   ]
  },
  {
   "cell_type": "code",
   "execution_count": null,
   "metadata": {},
   "outputs": [],
   "source": [
    "fig, ax = moran_scatterplot(moran, aspect_equal=True)\n",
    "plt.show()"
   ]
  },
  {
   "cell_type": "code",
   "execution_count": null,
   "metadata": {},
   "outputs": [],
   "source": [
    "plot_moran_simulation(moran,aspect_equal=False)"
   ]
  },
  {
   "cell_type": "code",
   "execution_count": null,
   "metadata": {
    "scrolled": true
   },
   "outputs": [],
   "source": [
    "moran.p_sim"
   ]
  },
  {
   "cell_type": "markdown",
   "metadata": {},
   "source": [
    "We can reject the hypothesis that the map is random becuase the p-value is small.\n",
    "\n",
    "Now, we want Local Indicators of Spatial Association (LISA) to calculate the clusters by classifying it into these 4 groups: High values near to high values (HH), low values with nearby low values (LL), low values with high values (LH) and high values with nearbly low values (HL)"
   ]
  },
  {
   "cell_type": "code",
   "execution_count": null,
   "metadata": {},
   "outputs": [],
   "source": [
    "# calculate local moran values\n",
    "lisa = esda.moran.Moran_Local(y, wq)"
   ]
  },
  {
   "cell_type": "code",
   "execution_count": null,
   "metadata": {},
   "outputs": [],
   "source": [
    "# Plot\n",
    "fig, ax = moran_scatterplot(lisa, p=0.05)\n",
    "ax.set_xlabel(\"Crimes Committed\")\n",
    "ax.set_ylabel('Spatial Lag of Crimes Committed')\n",
    "plt.text(1.95, 0.5, \"HH\", fontsize=25)\n",
    "plt.text(1.95, -1.5, \"HL\", fontsize=25)\n",
    "plt.text(-2, 1, \"LH\", fontsize=25)\n",
    "plt.text(-1, -1, \"LL\", fontsize=25)\n",
    "plt.show()"
   ]
  },
  {
   "cell_type": "code",
   "execution_count": null,
   "metadata": {},
   "outputs": [],
   "source": [
    "fig, ax = plt.subplots(figsize=(14,12))\n",
    "lisa_cluster(lisa, gdf, p=0.05, ax=ax)\n",
    "plt.show()"
   ]
  },
  {
   "cell_type": "markdown",
   "metadata": {},
   "source": [
    "Let's compare the different p-values."
   ]
  },
  {
   "cell_type": "code",
   "execution_count": null,
   "metadata": {},
   "outputs": [],
   "source": [
    "fig, axs = plt.subplots(1, 2, figsize=(15, 8))\n",
    "\n",
    "ax1, ax2 = axs\n",
    "\n",
    "# regular count map on the left\n",
    "lisa_cluster(lisa, gdf, p=0.05, ax=ax1)\n",
    "\n",
    "ax1.axis(\"off\")\n",
    "ax1.set_title(\"P-value: 0.05\")\n",
    "\n",
    "# spatial lag map on the right\n",
    "lisa_cluster(lisa, gdf, p=0.01, ax=ax2)\n",
    "ax2.axis(\"off\")\n",
    "ax2.set_title(\"P-value: 0.01\")\n",
    "\n",
    "plt.show()"
   ]
  },
  {
   "cell_type": "markdown",
   "metadata": {},
   "source": [
    "Now, let's create an interactive version of the LISA map."
   ]
  },
  {
   "cell_type": "code",
   "execution_count": null,
   "metadata": {},
   "outputs": [],
   "source": [
    "# original value list\n",
    "lisa.y[:5]"
   ]
  },
  {
   "cell_type": "code",
   "execution_count": null,
   "metadata": {},
   "outputs": [],
   "source": [
    "# quadrant list\n",
    "lisa.q[:5]"
   ]
  },
  {
   "cell_type": "code",
   "execution_count": null,
   "metadata": {},
   "outputs": [],
   "source": [
    "# p sim list\n",
    "lisa.p_sim[:5]"
   ]
  },
  {
   "cell_type": "code",
   "execution_count": null,
   "metadata": {},
   "outputs": [],
   "source": [
    "# add quadrant numbers to the dataframe\n",
    "gdf['q'] = lisa.q.tolist()"
   ]
  },
  {
   "cell_type": "code",
   "execution_count": null,
   "metadata": {},
   "outputs": [],
   "source": [
    "# add individual p-values to the dataframe\n",
    "gdf['p_sim'] = lisa.p_sim.tolist()"
   ]
  },
  {
   "cell_type": "code",
   "execution_count": null,
   "metadata": {},
   "outputs": [],
   "source": [
    "gdf.head()"
   ]
  },
  {
   "cell_type": "code",
   "execution_count": null,
   "metadata": {},
   "outputs": [],
   "source": [
    "# Let's create a hotspot map\n",
    "# identify just the hotspot geographies\n",
    "hot_spots = gdf[(gdf.p_sim < 0.05) & (gdf.q == 1)]"
   ]
  },
  {
   "cell_type": "code",
   "execution_count": null,
   "metadata": {},
   "outputs": [],
   "source": [
    "hot_spots.shape"
   ]
  },
  {
   "cell_type": "code",
   "execution_count": null,
   "metadata": {},
   "outputs": [],
   "source": [
    "hot_spots.plot(figsize=(12,12),color='blue',legend=True,categorical=True)"
   ]
  },
  {
   "cell_type": "code",
   "execution_count": null,
   "metadata": {},
   "outputs": [],
   "source": [
    "# interactive version needs to be in WGS84\n",
    "hot_spots = hot_spots.to_crs('EPSG:4326')"
   ]
  },
  {
   "cell_type": "code",
   "execution_count": null,
   "metadata": {},
   "outputs": [],
   "source": [
    "# what's the centroid?\n",
    "minx, miny, maxx, maxy = hot_spots.geometry.total_bounds\n",
    "center_lat_hot_spots = (maxy-miny)/2+miny\n",
    "center_lon_hot_spots = (maxx-minx)/2+minx"
   ]
  },
  {
   "cell_type": "code",
   "execution_count": null,
   "metadata": {},
   "outputs": [],
   "source": [
    "fig = px.choropleth_mapbox(hot_spots, \n",
    "                     geojson=hot_spots.geometry, \n",
    "                     locations=hot_spots.index, \n",
    "                     mapbox_style=\"satellite-streets\",\n",
    "                     center = {\"lat\": center_lat_hot_spots, \"lon\": center_lon_hot_spots},\n",
    "                     zoom=9, \n",
    "                     opacity=0.6,\n",
    "                     color='crimes_per_1000_lag',\n",
    "                     color_continuous_scale='Blues',\n",
    "                     color_continuous_midpoint =median,\n",
    "                     range_color =(0,median*2),\n",
    "                     hover_data=['crimes_count','crimes_per_1000','crimes_per_1000_lag'],\n",
    "                    width=1200,\n",
    "                     height=800,\n",
    "                           labels={\n",
    "                             'crimes_per_1000_lag':'Crimes Committed in Los Angeles per 1000 (Spatial Lag)',\n",
    "                             'crimes_per_1000':'Crimes Committed in Los Angeles per 1000',\n",
    "                     })\n",
    "fig.update_traces(marker_line_width=1, marker_line_color='white')\n",
    "fig.update_layout(margin={\"r\":0,\"t\":0,\"l\":0,\"b\":0})"
   ]
  },
  {
   "cell_type": "markdown",
   "metadata": {},
   "source": [
    "# Group Contributions\n",
    "1. Donna Heydar (Donna contributed to breaking down the educational attainment data in Los Angeles County, however we decided not to include the educational attainment dataset in our final project. Donna also contributed to the data exploration and analysis of Crime data in LA as well as COVID-19 data.) \n",
    "2. Daniel Ruiz ( Daniel also contributed to the data exploration and analysis of HOLC Redlining. He also contributed to the comparison between income and homeownership in Los Angeles.) "
   ]
  }
 ],
 "metadata": {
  "kernelspec": {
   "display_name": "Python 3",
   "language": "python",
   "name": "python3"
  },
  "language_info": {
   "codemirror_mode": {
    "name": "ipython",
    "version": 3
   },
   "file_extension": ".py",
   "mimetype": "text/x-python",
   "name": "python",
   "nbconvert_exporter": "python",
   "pygments_lexer": "ipython3",
   "version": "3.8.5"
  },
  "toc": {
   "base_numbering": 1,
   "nav_menu": {},
   "number_sections": true,
   "sideBar": true,
   "skip_h1_title": false,
   "title_cell": "Table of Contents",
   "title_sidebar": "Contents",
   "toc_cell": false,
   "toc_position": {
    "height": "calc(100% - 180px)",
    "left": "10px",
    "top": "150px",
    "width": "165px"
   },
   "toc_section_display": true,
   "toc_window_display": true
  }
 },
 "nbformat": 4,
 "nbformat_minor": 4
}
