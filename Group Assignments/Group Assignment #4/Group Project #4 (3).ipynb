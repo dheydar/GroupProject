{
 "cells": [
  {
   "cell_type": "markdown",
   "metadata": {},
   "source": [
    "# Group Project #4\n",
    "\n",
    "For this assignment, we will be using crime data from LA times to perform a spatial autocorrelation analysis. \n",
    "\n",
    "We will begin by importing the libraries we will be using."
   ]
  },
  {
   "cell_type": "code",
   "execution_count": null,
   "metadata": {},
   "outputs": [],
   "source": [
    "# to read and wrangle data\n",
    "import pandas as pd\n",
    "\n",
    "# to import data from LA Data portal\n",
    "from sodapy import Socrata\n",
    "\n",
    "# to create spatial data\n",
    "import geopandas as gpd\n",
    "\n",
    "# for basemaps\n",
    "import contextily as ctx\n",
    "\n",
    "# For spatial statistics\n",
    "import esda\n",
    "from esda.moran import Moran, Moran_Local\n",
    "\n",
    "import splot\n",
    "from splot.esda import moran_scatterplot, plot_moran, lisa_cluster,plot_moran_simulation\n",
    "\n",
    "import libpysal as lps\n",
    "\n",
    "# Graphics\n",
    "import matplotlib.pyplot as plt\n",
    "import plotly.express as px"
   ]
  },
  {
   "cell_type": "markdown",
   "metadata": {},
   "source": [
    "Next, we will bring in a census geography that will allow us to summarize the location of crimes committed in Los Angeles."
   ]
  },
  {
   "cell_type": "code",
   "execution_count": null,
   "metadata": {},
   "outputs": [],
   "source": [
    "# read downloaded geojson file from census reporter\n",
    "gdf = gpd.read_file('data/acs2018_5yr_B01003_15000US060372711003.geojson')"
   ]
  },
  {
   "cell_type": "code",
   "execution_count": null,
   "metadata": {},
   "outputs": [],
   "source": [
    "gdf.info()"
   ]
  },
  {
   "cell_type": "code",
   "execution_count": null,
   "metadata": {},
   "outputs": [],
   "source": [
    "# trim the data to the bare minimum columns\n",
    "gdf = gdf[['geoid','B01003001','geometry']]\n",
    "\n",
    "# rename the columns\n",
    "gdf.columns = ['FIPS','TotalPop','geometry']"
   ]
  },
  {
   "cell_type": "code",
   "execution_count": null,
   "metadata": {},
   "outputs": [],
   "source": [
    "# last rows\n",
    "gdf.tail()"
   ]
  },
  {
   "cell_type": "code",
   "execution_count": null,
   "metadata": {},
   "outputs": [],
   "source": [
    "# We want to delete last column which is for the entire city of LA\n",
    "gdf=gdf.drop(2515)"
   ]
  },
  {
   "cell_type": "code",
   "execution_count": null,
   "metadata": {},
   "outputs": [],
   "source": [
    "# fix FIPS code\n",
    "gdf['FIPS'] = gdf['FIPS'].str.replace('15000US','')\n",
    "gdf.tail()"
   ]
  },
  {
   "cell_type": "code",
   "execution_count": null,
   "metadata": {},
   "outputs": [],
   "source": [
    "# sort by total pop\n",
    "gdf.sort_values(by='TotalPop').head(20)"
   ]
  },
  {
   "cell_type": "code",
   "execution_count": null,
   "metadata": {},
   "outputs": [],
   "source": [
    "# delete zero population geographies\n",
    "gdf = gdf[gdf['TotalPop']>100]"
   ]
  },
  {
   "cell_type": "markdown",
   "metadata": {},
   "source": [
    "Now, let's move on to mapping the census block groups."
   ]
  },
  {
   "cell_type": "code",
   "execution_count": null,
   "metadata": {},
   "outputs": [],
   "source": [
    "# get the layers into a web mercator projection\n",
    "# reproject to web mercator\n",
    "gdf = gdf.to_crs(epsg=3857)"
   ]
  },
  {
   "cell_type": "code",
   "execution_count": null,
   "metadata": {
    "scrolled": true
   },
   "outputs": [],
   "source": [
    "# Now, we want to plot this information\n",
    "ax=gdf.plot(figsize=(12,12),\n",
    "                      color='grey', \n",
    "                      edgecolor='white',\n",
    "                      alpha=0.5)\n",
    "# no axis\n",
    "ax.axis('off')\n",
    "\n",
    "# add a basemap\n",
    "ctx.add_basemap(ax,source=ctx.providers.CartoDB.Positron)"
   ]
  },
  {
   "cell_type": "markdown",
   "metadata": {},
   "source": [
    "Now, we want to import crime data for Los Angeles from lacity.org. We will be using the timeline of March to April 2020 because the data is so dense."
   ]
  },
  {
   "cell_type": "code",
   "execution_count": null,
   "metadata": {},
   "outputs": [],
   "source": [
    "# Next, we will connect to the data portal\n",
    "client = Socrata(\"data.lacity.org\", None)\n",
    "\n",
    "results = client.get(\"2nrs-mtv8\", \n",
    "                     limit=30000,\n",
    "                     where = \"date_rptd between '2020-03-01T00:00:00' and '2020-04-30T00:00:00'\",\n",
    "                     order='crm_cd_desc')\n",
    "\n",
    "# Convert to pandas DataFrame\n",
    "crimes = pd.DataFrame.from_records(results)"
   ]
  },
  {
   "cell_type": "code",
   "execution_count": null,
   "metadata": {},
   "outputs": [],
   "source": [
    "crimes.shape"
   ]
  },
  {
   "cell_type": "code",
   "execution_count": null,
   "metadata": {},
   "outputs": [],
   "source": [
    "# convert pandas dataframe to geodataframe\n",
    "crimes = gpd.GeoDataFrame(crimes, \n",
    "                         crs='EPSG:4326',\n",
    "                         geometry=gpd.points_from_xy(crimes.lon, crimes.lat))"
   ]
  },
  {
   "cell_type": "code",
   "execution_count": null,
   "metadata": {},
   "outputs": [],
   "source": [
    "# get the layers into a web mercator projection\n",
    "# reproject to web mercator\n",
    "crimes = crimes.to_crs(epsg=3857)"
   ]
  },
  {
   "cell_type": "code",
   "execution_count": null,
   "metadata": {},
   "outputs": [],
   "source": [
    "# convert lat/lon to floats\n",
    "crimes.lon = crimes.lon.astype('float')\n",
    "crimes.lat = crimes.lat.astype('float')"
   ]
  },
  {
   "cell_type": "code",
   "execution_count": null,
   "metadata": {},
   "outputs": [],
   "source": [
    "# Let's map it\n",
    "ax = crimes.plot(figsize=(12,12),\n",
    "                  color='red',\n",
    "                  markersize=1)\n",
    "\n",
    "# no axis\n",
    "ax.axis('off')\n",
    "\n",
    "# add a basemap\n",
    "ctx.add_basemap(ax,source=ctx.providers.CartoDB.Positron)"
   ]
  },
  {
   "cell_type": "code",
   "execution_count": null,
   "metadata": {},
   "outputs": [],
   "source": [
    "# Now we want to fix the error we se above. We want to subset the zero coordinate records\n",
    "crimes[crimes.lon==0]"
   ]
  },
  {
   "cell_type": "code",
   "execution_count": null,
   "metadata": {},
   "outputs": [],
   "source": [
    "# drop the unmapped rows\n",
    "crimes.drop(crimes[crimes.lon==0].index,inplace=True)"
   ]
  },
  {
   "cell_type": "code",
   "execution_count": null,
   "metadata": {
    "scrolled": true
   },
   "outputs": [],
   "source": [
    "# Let's map it again and see what it looks like\n",
    "ax = crimes.plot(figsize=(12,12),\n",
    "                  color='blue',\n",
    "                  markersize=1,\n",
    "                  alpha=0.5)\n",
    "\n",
    "# no axis\n",
    "ax.axis('off')\n",
    "\n",
    "# add a basemap\n",
    "ctx.add_basemap(ax,source=ctx.providers.CartoDB.Positron)"
   ]
  },
  {
   "cell_type": "markdown",
   "metadata": {},
   "source": [
    "Now, we want to combine both the layers we have created."
   ]
  },
  {
   "cell_type": "code",
   "execution_count": null,
   "metadata": {},
   "outputs": [],
   "source": [
    "# get the bounding box coordinates for the arrest data\n",
    "minx, miny, maxx, maxy = crimes.geometry.total_bounds\n",
    "print(minx)\n",
    "print(maxx)\n",
    "print(miny)\n",
    "print(maxy)"
   ]
  },
  {
   "cell_type": "code",
   "execution_count": null,
   "metadata": {
    "scrolled": false
   },
   "outputs": [],
   "source": [
    "# set up the plot canvas with plt.subplots\n",
    "fig, ax = plt.subplots(figsize=(15, 15))\n",
    "\n",
    "# block groups\n",
    "gdf.plot(ax=ax, # this puts it in the ax plot\n",
    "        color='gray', \n",
    "        edgecolor='white',\n",
    "        alpha=0.5)\n",
    "\n",
    "# arrests\n",
    "crimes.plot(ax=ax, # this also puts it in the same ax plot\n",
    "            color='blue',\n",
    "            markersize=1,\n",
    "            alpha=0.2)\n",
    "\n",
    "# use the bounding box coordinates to set the x and y limits\n",
    "ax.set_xlim(minx - 1000, maxx + 1000) # added/substracted value is to give some margin around total bounds\n",
    "ax.set_ylim(miny - 1000, maxy + 1000)\n",
    "\n",
    "# no axis\n",
    "ax.axis('off')\n",
    "\n",
    "# add a basemap\n",
    "ctx.add_basemap(ax,source=ctx.providers.CartoDB.Positron)"
   ]
  },
  {
   "cell_type": "markdown",
   "metadata": {},
   "source": [
    "Next, we want to perform a spatial join."
   ]
  },
  {
   "cell_type": "code",
   "execution_count": null,
   "metadata": {},
   "outputs": [],
   "source": [
    "join = gpd.sjoin(gdf, crimes, how='right')\n",
    "join.head()"
   ]
  },
  {
   "cell_type": "code",
   "execution_count": null,
   "metadata": {},
   "outputs": [],
   "source": [
    "crimes_by_gdf = join.FIPS.value_counts().rename_axis('FIPS').reset_index(name='crimes_count')"
   ]
  },
  {
   "cell_type": "code",
   "execution_count": null,
   "metadata": {},
   "outputs": [],
   "source": [
    "crimes_by_gdf.head()"
   ]
  },
  {
   "cell_type": "code",
   "execution_count": null,
   "metadata": {
    "scrolled": true
   },
   "outputs": [],
   "source": [
    "# make a bar chart of top 20 geographies\n",
    "crimes_by_gdf[:20].plot.bar(figsize=(20,4),\n",
    "                             x='FIPS',\n",
    "                             y='crimes_count')"
   ]
  },
  {
   "cell_type": "markdown",
   "metadata": {},
   "source": [
    "Now, we want to join the summary table back to the GeoDataFrame."
   ]
  },
  {
   "cell_type": "code",
   "execution_count": null,
   "metadata": {},
   "outputs": [],
   "source": [
    "gdf=gdf.merge(crimes_by_gdf,on='FIPS')"
   ]
  },
  {
   "cell_type": "code",
   "execution_count": null,
   "metadata": {
    "scrolled": true
   },
   "outputs": [],
   "source": [
    "#Now, we have a count column.\n",
    "gdf.head()"
   ]
  },
  {
   "cell_type": "markdown",
   "metadata": {},
   "source": [
    "Now, let's look at crimes committed in Los Angeles per 1000 people."
   ]
  },
  {
   "cell_type": "code",
   "execution_count": null,
   "metadata": {},
   "outputs": [],
   "source": [
    "gdf['crimes_per_1000'] = gdf['crimes_count']/gdf['TotalPop']*1000"
   ]
  },
  {
   "cell_type": "code",
   "execution_count": null,
   "metadata": {},
   "outputs": [],
   "source": [
    "gdf.sort_values(by=\"crimes_per_1000\").tail()"
   ]
  },
  {
   "cell_type": "code",
   "execution_count": null,
   "metadata": {
    "scrolled": true
   },
   "outputs": [],
   "source": [
    "# map the top 20 geographies\n",
    "ax = gdf.sort_values(by='crimes_per_1000',ascending=False)[:20].plot(figsize=(12,10),\n",
    "                                                             color='blue',\n",
    "                                                             edgecolor='white',\n",
    "                                                             alpha=0.5,legend=True)\n",
    "\n",
    "\n",
    "# title\n",
    "ax.set_title('Top 20 locations of Crimes Committed in Los Angeles per 1000 people (March-April 2020)')\n",
    "\n",
    "# no axis\n",
    "ax.axis('off')\n",
    "\n",
    "# add a basemap\n",
    "ctx.add_basemap(ax,source=ctx.providers.CartoDB.Positron)"
   ]
  },
  {
   "cell_type": "code",
   "execution_count": null,
   "metadata": {
    "scrolled": true
   },
   "outputs": [],
   "source": [
    "#Let's make a choropleth map\n",
    "ax = gdf.plot(figsize=(15,15),\n",
    "                        column='crimes_per_1000',\n",
    "                        legend=True,\n",
    "                        alpha=0.8,\n",
    "                        cmap='Blues',\n",
    "                        scheme='quantiles')\n",
    "\n",
    "ax.axis('off')\n",
    "ax.set_title('March to April 2020 crimes committed in LA per 1000 people',fontsize=22)\n",
    "ctx.add_basemap(ax,source=ctx.providers.CartoDB.Positron)"
   ]
  },
  {
   "cell_type": "markdown",
   "metadata": {},
   "source": [
    "Now, we want to conduct spatial autocrrelation to determine what degree an existing pattern could potentially be random.\n",
    "\n",
    "We will be using Moran's I statistic."
   ]
  },
  {
   "cell_type": "code",
   "execution_count": null,
   "metadata": {},
   "outputs": [],
   "source": [
    "# calculate spatial weight\n",
    "wq =  lps.weights.KNN.from_dataframe(gdf,k=8)\n",
    "wq.transform = 'r'"
   ]
  },
  {
   "cell_type": "code",
   "execution_count": null,
   "metadata": {},
   "outputs": [],
   "source": [
    "# create a new column for the spatial lag\n",
    "gdf['crimes_per_1000_lag'] = lps.weights.lag_spatial(wq, gdf['crimes_per_1000'])"
   ]
  },
  {
   "cell_type": "code",
   "execution_count": null,
   "metadata": {
    "scrolled": true
   },
   "outputs": [],
   "source": [
    "gdf.sort_values(by='crimes_per_1000',ascending=False).sample(10)"
   ]
  },
  {
   "cell_type": "markdown",
   "metadata": {},
   "source": [
    "Now, let's consider the donut and diamond geographies to better understand the significance of the spatial lag values."
   ]
  },
  {
   "cell_type": "code",
   "execution_count": null,
   "metadata": {},
   "outputs": [],
   "source": [
    "gdf[gdf['FIPS'].isin(['060372739022', '060379800241'])]"
   ]
  },
  {
   "cell_type": "code",
   "execution_count": null,
   "metadata": {},
   "outputs": [],
   "source": [
    "# set the mapbox access token\n",
    "token = 'pk.eyJ1IjoiZGhleWRhciIsImEiOiJja2llM3k3bHExYTN5Mnlueng0ZTd6bGQ2In0.TIg8HNU19SXwuGSdJSkRtQ'\n",
    "px.set_mapbox_access_token(token)"
   ]
  },
  {
   "cell_type": "code",
   "execution_count": null,
   "metadata": {},
   "outputs": [],
   "source": [
    "# subset donut, project to WGS84, and get its centroid\n",
    "gdf_donut = gdf[gdf.FIPS=='060372739022']\n",
    "gdf_donut = gdf_donut.to_crs('epsg:4326')\n",
    "\n",
    "# what's the centroid?\n",
    "minx, miny, maxx, maxy = gdf_donut.geometry.total_bounds\n",
    "center_lat_donut = (maxy-miny)/2+miny\n",
    "center_lon_donut = (maxx-minx)/2+minx"
   ]
  },
  {
   "cell_type": "code",
   "execution_count": null,
   "metadata": {},
   "outputs": [],
   "source": [
    "# subset diamond, project to WGS84, and get its centroid\n",
    "gdf_diamond = gdf[gdf.FIPS=='060379800241']\n",
    "gdf_diamond = gdf_diamond.to_crs('epsg:4326')\n",
    "\n",
    "# what's the centroid?\n",
    "minx, miny, maxx, maxy = gdf_diamond.geometry.total_bounds\n",
    "center_lat_diamond = (maxy-miny)/2+miny\n",
    "center_lon_diamond = (maxx-minx)/2+minx"
   ]
  },
  {
   "cell_type": "code",
   "execution_count": null,
   "metadata": {},
   "outputs": [],
   "source": [
    "px.choropleth_mapbox(gdf_donut, \n",
    "                     geojson=gdf_donut.geometry, \n",
    "                     locations=gdf_donut.index, \n",
    "                     mapbox_style=\"satellite-streets\",\n",
    "                     zoom=14, \n",
    "                     center = {\"lat\": center_lat_donut, \"lon\": center_lon_donut},\n",
    "                     hover_data=['crimes_count','crimes_per_1000','crimes_per_1000_lag'],\n",
    "                     opacity=0.4,\n",
    "                     title='The Donut')"
   ]
  },
  {
   "cell_type": "code",
   "execution_count": null,
   "metadata": {},
   "outputs": [],
   "source": [
    "px.choropleth_mapbox(gdf_diamond, \n",
    "                     geojson=gdf_diamond.geometry, \n",
    "                     locations=gdf_diamond.index, \n",
    "                     mapbox_style=\"satellite-streets\",\n",
    "                     zoom=12, \n",
    "                     center = {\"lat\": center_lat_diamond, \"lon\": center_lon_diamond},\n",
    "                     hover_data=['crimes_count','crimes_per_1000','crimes_per_1000_lag'],\n",
    "                     opacity=0.4,\n",
    "                     title='The Diamond')"
   ]
  },
  {
   "cell_type": "markdown",
   "metadata": {},
   "source": [
    "Now, we want to map the entire dataframe with the new spatial lag column we created."
   ]
  },
  {
   "cell_type": "code",
   "execution_count": null,
   "metadata": {
    "scrolled": true
   },
   "outputs": [],
   "source": [
    "fig, ax = plt.subplots(figsize=(15, 15))\n",
    "\n",
    "# spatial lag choropleth\n",
    "gdf.plot(ax=ax,\n",
    "         figsize=(15,15),\n",
    "         column='crimes_per_1000_lag',\n",
    "         legend=True,\n",
    "         alpha=0.8,\n",
    "         cmap='Blues',\n",
    "         scheme='quantiles')\n",
    "\n",
    "# uncomment this to see the actual point locations of arrests\n",
    "# arrests.plot(ax=ax, \n",
    "#              color='blue',\n",
    "#              markersize =1,\n",
    "#              alpha=0.2, \n",
    "#              legend=True)\n",
    "\n",
    "ax.axis('off')\n",
    "ax.set_title('March-April 2020 Crimes Committed in Los Angeles per 1000 people',fontsize=22)\n",
    "\n",
    "ctx.add_basemap(ax,source=ctx.providers.CartoDB.Positron)"
   ]
  },
  {
   "cell_type": "markdown",
   "metadata": {},
   "source": [
    "Let's compare the two maps we've made."
   ]
  },
  {
   "cell_type": "code",
   "execution_count": null,
   "metadata": {
    "scrolled": true
   },
   "outputs": [],
   "source": [
    "fig, axs = plt.subplots(1, 2, figsize=(15, 8))\n",
    "\n",
    "ax1, ax2 = axs\n",
    "\n",
    "# regular count map on the left\n",
    "gdf.plot(column='crimes_per_1000', \n",
    "            cmap='Blues', \n",
    "            scheme='quantiles',\n",
    "            k=5, \n",
    "            edgecolor='white', \n",
    "            linewidth=0., \n",
    "            alpha=0.75, \n",
    "            ax=ax1 \n",
    "           )\n",
    "\n",
    "\n",
    "ax1.axis(\"off\")\n",
    "ax1.set_title(\"Crimes Committed in Los Angeles per 1000\")\n",
    "\n",
    "# spatial lag map on the right\n",
    "gdf.plot(column='crimes_per_1000_lag', \n",
    "            cmap='Blues', \n",
    "            scheme='quantiles',\n",
    "            k=5, \n",
    "            edgecolor='white', \n",
    "            linewidth=0., \n",
    "            alpha=0.75, \n",
    "            ax=ax2 \n",
    "           )\n",
    "\n",
    "ax2.axis(\"off\")\n",
    "ax2.set_title(\"Crimes Committed in Los Angeles per 1000 - Spatial Lag\")\n",
    "\n",
    "plt.show()"
   ]
  },
  {
   "cell_type": "markdown",
   "metadata": {},
   "source": [
    "Next, we want to create an interactive spatial lag satellite map."
   ]
  },
  {
   "cell_type": "code",
   "execution_count": null,
   "metadata": {},
   "outputs": [],
   "source": [
    "# interactive version needs to be in WGS84\n",
    "gdf_web = gdf.to_crs('EPSG:4326')"
   ]
  },
  {
   "cell_type": "code",
   "execution_count": null,
   "metadata": {},
   "outputs": [],
   "source": [
    "# what's the centroid?\n",
    "minx, miny, maxx, maxy = gdf_web.geometry.total_bounds\n",
    "center_lat_gdf_web = (maxy-miny)/2+miny\n",
    "center_lon_gdf_web = (maxx-minx)/2+minx"
   ]
  },
  {
   "cell_type": "code",
   "execution_count": null,
   "metadata": {},
   "outputs": [],
   "source": [
    "# the median?\n",
    "median = gdf_web.crimes_per_1000_lag.median()"
   ]
  },
  {
   "cell_type": "code",
   "execution_count": null,
   "metadata": {
    "scrolled": true
   },
   "outputs": [],
   "source": [
    "fig = px.choropleth_mapbox(gdf_web, \n",
    "                     geojson=gdf_web.geometry, \n",
    "                     locations=gdf_web.index, \n",
    "                     mapbox_style=\"satellite-streets\",\n",
    "                     zoom=9, \n",
    "                     color='crimes_per_1000_lag',\n",
    "                     color_continuous_scale='Blues',\n",
    "                     color_continuous_midpoint =median,\n",
    "                     range_color =(0,median*2),\n",
    "                     hover_data=['crimes_count','crimes_per_1000','crimes_per_1000_lag'],\n",
    "                     center = {\"lat\": center_lat_gdf_web, \"lon\": center_lon_gdf_web},\n",
    "                     opacity=0.8,\n",
    "                     width=1200,\n",
    "                     height=800,\n",
    "                     labels={\n",
    "                             'crimes_per_1000_lag':'Crimes Committed in Los Angeles per 1000 (Spatial Lag)',\n",
    "                             'crimes_per_1000':'Crimes Committed in Los Angeles per 1000',\n",
    "                     })\n",
    "fig.update_traces(marker_line_width=0.1, marker_line_color='white')\n",
    "fig.update_layout(margin={\"r\":0,\"t\":0,\"l\":0,\"b\":0})"
   ]
  },
  {
   "cell_type": "markdown",
   "metadata": {},
   "source": [
    "Let's move towards the Moran's Plot."
   ]
  },
  {
   "cell_type": "code",
   "execution_count": null,
   "metadata": {},
   "outputs": [],
   "source": [
    "y = gdf.crimes_per_1000\n",
    "moran = Moran(y, wq)\n",
    "moran.I"
   ]
  },
  {
   "cell_type": "markdown",
   "metadata": {},
   "source": [
    "We have a positive spatial autocorrelation, which means high values are close to high values, or low values are close to low values."
   ]
  },
  {
   "cell_type": "code",
   "execution_count": null,
   "metadata": {},
   "outputs": [],
   "source": [
    "fig, ax = moran_scatterplot(moran, aspect_equal=True)\n",
    "plt.show()"
   ]
  },
  {
   "cell_type": "code",
   "execution_count": null,
   "metadata": {},
   "outputs": [],
   "source": [
    "plot_moran_simulation(moran,aspect_equal=False)"
   ]
  },
  {
   "cell_type": "code",
   "execution_count": null,
   "metadata": {},
   "outputs": [],
   "source": [
    "moran.p_sim"
   ]
  },
  {
   "cell_type": "markdown",
   "metadata": {},
   "source": [
    "We can reject the hypothesis that the map is random becuase the p-value is small."
   ]
  },
  {
   "cell_type": "markdown",
   "metadata": {},
   "source": [
    "Now, we want Local Indicators of Spatial Association (LISA) to calculate the clusters by classifying it into these 4 groups: High values near to high values (HH), low values with nearby low values (LL), low values with high values (LH) and high values with nearbly low values (HL)"
   ]
  },
  {
   "cell_type": "code",
   "execution_count": null,
   "metadata": {},
   "outputs": [],
   "source": [
    "# calculate local moran values\n",
    "lisa = esda.moran.Moran_Local(y, wq)"
   ]
  },
  {
   "cell_type": "code",
   "execution_count": null,
   "metadata": {},
   "outputs": [],
   "source": [
    "# Plot\n",
    "fig, ax = moran_scatterplot(lisa, p=0.05)\n",
    "ax.set_xlabel(\"Crimes Committed\")\n",
    "ax.set_ylabel('Spatial Lag of Crimes Committed')\n",
    "plt.text(1.95, 0.5, \"HH\", fontsize=25)\n",
    "plt.text(1.95, -1.5, \"HL\", fontsize=25)\n",
    "plt.text(-2, 1, \"LH\", fontsize=25)\n",
    "plt.text(-1, -1, \"LL\", fontsize=25)\n",
    "plt.show()"
   ]
  },
  {
   "cell_type": "code",
   "execution_count": null,
   "metadata": {},
   "outputs": [],
   "source": [
    "fig, ax = plt.subplots(figsize=(14,12))\n",
    "lisa_cluster(lisa, gdf, p=0.05, ax=ax)\n",
    "plt.show()"
   ]
  },
  {
   "cell_type": "markdown",
   "metadata": {},
   "source": [
    "Let's compare the different p-values."
   ]
  },
  {
   "cell_type": "code",
   "execution_count": null,
   "metadata": {
    "scrolled": true
   },
   "outputs": [],
   "source": [
    "fig, axs = plt.subplots(1, 2, figsize=(15, 8))\n",
    "\n",
    "ax1, ax2 = axs\n",
    "\n",
    "# regular count map on the left\n",
    "lisa_cluster(lisa, gdf, p=0.05, ax=ax1)\n",
    "\n",
    "ax1.axis(\"off\")\n",
    "ax1.set_title(\"P-value: 0.05\")\n",
    "\n",
    "# spatial lag map on the right\n",
    "lisa_cluster(lisa, gdf, p=0.01, ax=ax2)\n",
    "ax2.axis(\"off\")\n",
    "ax2.set_title(\"P-value: 0.01\")\n",
    "\n",
    "plt.show()"
   ]
  },
  {
   "cell_type": "markdown",
   "metadata": {},
   "source": [
    "Now, let's create an interactive version of the LISA map."
   ]
  },
  {
   "cell_type": "code",
   "execution_count": null,
   "metadata": {},
   "outputs": [],
   "source": [
    "# original value list\n",
    "lisa.y[:5]"
   ]
  },
  {
   "cell_type": "code",
   "execution_count": null,
   "metadata": {},
   "outputs": [],
   "source": [
    "# quadrant list\n",
    "lisa.q[:5]"
   ]
  },
  {
   "cell_type": "code",
   "execution_count": null,
   "metadata": {},
   "outputs": [],
   "source": [
    "# p sim list\n",
    "lisa.p_sim[:5]"
   ]
  },
  {
   "cell_type": "code",
   "execution_count": null,
   "metadata": {},
   "outputs": [],
   "source": [
    "# add quadrant numbers to the dataframe\n",
    "gdf['q'] = lisa.q.tolist()"
   ]
  },
  {
   "cell_type": "code",
   "execution_count": null,
   "metadata": {},
   "outputs": [],
   "source": [
    "# add individual p-values to the dataframe\n",
    "gdf['p_sim'] = lisa.p_sim.tolist()"
   ]
  },
  {
   "cell_type": "code",
   "execution_count": null,
   "metadata": {},
   "outputs": [],
   "source": [
    "gdf.head()"
   ]
  },
  {
   "cell_type": "code",
   "execution_count": null,
   "metadata": {},
   "outputs": [],
   "source": [
    "# Let's create a hotspot map\n",
    "# identify just the hotspot geographies\n",
    "hot_spots = gdf[(gdf.p_sim < 0.05) & (gdf.q == 1)]"
   ]
  },
  {
   "cell_type": "code",
   "execution_count": null,
   "metadata": {},
   "outputs": [],
   "source": [
    "hot_spots.shape"
   ]
  },
  {
   "cell_type": "code",
   "execution_count": null,
   "metadata": {},
   "outputs": [],
   "source": [
    "hot_spots.plot(figsize=(12,12),color='blue',legend=True,categorical=True)"
   ]
  },
  {
   "cell_type": "code",
   "execution_count": null,
   "metadata": {},
   "outputs": [],
   "source": [
    "# interactive version needs to be in WGS84\n",
    "hot_spots = hot_spots.to_crs('EPSG:4326')"
   ]
  },
  {
   "cell_type": "code",
   "execution_count": null,
   "metadata": {},
   "outputs": [],
   "source": [
    "# what's the centroid?\n",
    "minx, miny, maxx, maxy = hot_spots.geometry.total_bounds\n",
    "center_lat_hot_spots = (maxy-miny)/2+miny\n",
    "center_lon_hot_spots = (maxx-minx)/2+minx"
   ]
  },
  {
   "cell_type": "code",
   "execution_count": null,
   "metadata": {
    "scrolled": true
   },
   "outputs": [],
   "source": [
    "fig = px.choropleth_mapbox(hot_spots, \n",
    "                     geojson=hot_spots.geometry, \n",
    "                     locations=hot_spots.index, \n",
    "                     mapbox_style=\"satellite-streets\",\n",
    "                     center = {\"lat\": center_lat_hot_spots, \"lon\": center_lon_hot_spots},\n",
    "                     zoom=9, \n",
    "                     opacity=0.6,\n",
    "                     color='crimes_per_1000_lag',\n",
    "                     color_continuous_scale='Blues',\n",
    "                     color_continuous_midpoint =median,\n",
    "                     range_color =(0,median*2),\n",
    "                     hover_data=['crimes_count','crimes_per_1000','crimes_per_1000_lag'],\n",
    "                    width=1200,\n",
    "                     height=800,\n",
    "                           labels={\n",
    "                             'crimes_per_1000_lag':'Crimes Committed in Los Angeles per 1000 (Spatial Lag)',\n",
    "                             'crimes_per_1000':'Crimes Committed in Los Angeles per 1000',\n",
    "                     })\n",
    "fig.update_traces(marker_line_width=1, marker_line_color='white')\n",
    "fig.update_layout(margin={\"r\":0,\"t\":0,\"l\":0,\"b\":0})"
   ]
  },
  {
   "cell_type": "markdown",
   "metadata": {},
   "source": [
    "# Group Contributions\n",
    "Donna conducted a spatial autocorrelation anaylsis using the Crime data for Los Angeles from lacity.org. Additionally, she included a global Moran's I statistic as well as a local spatial autocorrelation with a Moran's plot, indicating a p-value and a scatterplot with HH, HL, LH, and LL values."
   ]
  }
 ],
 "metadata": {
  "kernelspec": {
   "display_name": "Python 3",
   "language": "python",
   "name": "python3"
  },
  "language_info": {
   "codemirror_mode": {
    "name": "ipython",
    "version": 3
   },
   "file_extension": ".py",
   "mimetype": "text/x-python",
   "name": "python",
   "nbconvert_exporter": "python",
   "pygments_lexer": "ipython3",
   "version": "3.8.5"
  },
  "toc": {
   "base_numbering": 1,
   "nav_menu": {},
   "number_sections": true,
   "sideBar": true,
   "skip_h1_title": false,
   "title_cell": "Table of Contents",
   "title_sidebar": "Contents",
   "toc_cell": false,
   "toc_position": {},
   "toc_section_display": true,
   "toc_window_display": false
  }
 },
 "nbformat": 4,
 "nbformat_minor": 4
}
